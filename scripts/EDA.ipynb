{
 "cells": [
  {
   "cell_type": "code",
   "execution_count": 1,
   "metadata": {},
   "outputs": [
    {
     "name": "stdout",
     "output_type": "stream",
     "text": [
      "2.7.0\n"
     ]
    },
    {
     "data": {
      "text/html": [
       "<script>requirejs.config({paths: { 'plotly': ['https://cdn.plot.ly/plotly-latest.min']},});if(!window.Plotly) {{require(['plotly'],function(plotly) {window.Plotly=plotly;});}}</script>"
      ],
      "text/vnd.plotly.v1+html": [
       "<script>requirejs.config({paths: { 'plotly': ['https://cdn.plot.ly/plotly-latest.min']},});if(!window.Plotly) {{require(['plotly'],function(plotly) {window.Plotly=plotly;});}}</script>"
      ]
     },
     "metadata": {},
     "output_type": "display_data"
    }
   ],
   "source": [
    "import pandas as pd\n",
    "import numpy as np\n",
    "\n",
    "import matplotlib.pyplot as plt\n",
    "\n",
    "from plotly import __version__\n",
    "from plotly.offline import download_plotlyjs, init_notebook_mode, plot, iplot\n",
    "import plotly.graph_objs as go\n",
    "import plotly.plotly as py\n",
    "print (__version__) # requires version >= 1.9.0\n",
    "\n",
    "\n",
    "init_notebook_mode(connected=True)"
   ]
  },
  {
   "cell_type": "code",
   "execution_count": 2,
   "metadata": {},
   "outputs": [],
   "source": [
    "data = None\n",
    "with open( \"./scraped_17128.txt\" , \"r\") as f:\n",
    "    data = f.read()"
   ]
  },
  {
   "cell_type": "code",
   "execution_count": 3,
   "metadata": {},
   "outputs": [
    {
     "data": {
      "text/plain": [
       "53684166"
      ]
     },
     "execution_count": 3,
     "metadata": {},
     "output_type": "execute_result"
    }
   ],
   "source": [
    "len(data)"
   ]
  },
  {
   "cell_type": "code",
   "execution_count": 4,
   "metadata": {},
   "outputs": [],
   "source": [
    "df = pd.read_json( data )"
   ]
  },
  {
   "cell_type": "code",
   "execution_count": 5,
   "metadata": {},
   "outputs": [
    {
     "data": {
      "text/plain": [
       "(17128, 98)"
      ]
     },
     "execution_count": 5,
     "metadata": {},
     "output_type": "execute_result"
    }
   ],
   "source": [
    "df.shape"
   ]
  },
  {
   "cell_type": "code",
   "execution_count": 6,
   "metadata": {},
   "outputs": [
    {
     "name": "stdout",
     "output_type": "stream",
     "text": [
      "Address\n",
      "AdministrationPrice\n",
      "AdvertCategoryId\n",
      "AdvertExternalId\n",
      "AdvertId\n",
      "AdvertType\n",
      "AdvertWASId\n",
      "Advertising\n",
      "AgeId\n",
      "Ages\n",
      "Area\n",
      "Baths\n",
      "Capacity\n",
      "Category1\n",
      "Category1Id\n",
      "Category2\n",
      "Category2Id\n",
      "Category3\n",
      "Category3Id\n",
      "ClientId\n",
      "ClientLogoURL\n",
      "ClientName\n",
      "ClientParentLevel\n",
      "ClientURL\n",
      "Condition\n",
      "ConditionId\n",
      "ContractType\n",
      "DeliveryDate\n",
      "Description\n",
      "Email1\n",
      "Email2\n",
      "Email3\n",
      "Extras\n",
      "ExtrasId\n",
      "Financing\n",
      "Floor\n",
      "FloorId\n",
      "FormatedLivingArea\n",
      "FormatedPrice\n",
      "FormatedPriceM2\n",
      "FormatedSurface\n",
      "Garages\n",
      "GaragesId\n",
      "GridDate\n",
      "GroupName\n",
      "GroupType\n",
      "IncludesAdministration\n",
      "InteriorFloors\n",
      "Keywords\n",
      "Latitude\n",
      "LivingArea\n",
      "Location1\n",
      "Location1Id\n",
      "Location2\n",
      "Location2Id\n",
      "Location3\n",
      "Location3Id\n",
      "Location4\n",
      "Location4Id\n",
      "LocationType\n",
      "Longitude\n",
      "ModifyDate\n",
      "Neighborhood\n",
      "NumPhotos\n",
      "NumVideos\n",
      "OriginId\n",
      "OutStanding\n",
      "ParentLevel\n",
      "Phone\n",
      "Phone2\n",
      "Phone3\n",
      "PhoneClickToCall\n",
      "PhoneWhatsApp\n",
      "PhotoUrl\n",
      "Price\n",
      "PriceM2\n",
      "PriceType\n",
      "PriceTypeId\n",
      "ProductLabel\n",
      "ProductsCode\n",
      "PromotionLogoURL\n",
      "QualityRate\n",
      "Rooms\n",
      "Schedule\n",
      "SemanticText\n",
      "Status\n",
      "Stratum\n",
      "StratumId\n",
      "Surface\n",
      "Title\n",
      "TopAdvert\n",
      "TotalEnvironment\n",
      "TransactionId\n",
      "TransactionType\n",
      "ViewMapType\n",
      "ViewMapTypeId\n",
      "Weather\n",
      "WeatherId\n"
     ]
    }
   ],
   "source": [
    "for f in df.columns:\n",
    "    print( f)"
   ]
  },
  {
   "cell_type": "code",
   "execution_count": 7,
   "metadata": {},
   "outputs": [
    {
     "data": {
      "text/plain": [
       "17118    $ 630.000.000\n",
       "17119    $ 430.000.000\n",
       "17120    $ 130.000.000\n",
       "17121    $ 790.000.000\n",
       "17122    $ 250.000.000\n",
       "17123    $ 387.000.000\n",
       "17124    $ 295.000.000\n",
       "17125    $ 939.000.000\n",
       "17126    $ 225.000.000\n",
       "17127    $ 660.000.000\n",
       "Name: FormatedPrice, dtype: object"
      ]
     },
     "execution_count": 7,
     "metadata": {},
     "output_type": "execute_result"
    }
   ],
   "source": [
    "df[ \"FormatedPrice\"].tail(10)"
   ]
  },
  {
   "cell_type": "code",
   "execution_count": 8,
   "metadata": {},
   "outputs": [],
   "source": [
    "df[\"FormatedPrice\"] = df[\"FormatedPrice\"].apply( lambda x : x.replace(\"$\" , \"\" )  )\n",
    "df[\"FormatedPrice\"] = df[\"FormatedPrice\"].apply( lambda x : x.replace(\".\" , \"\" )  )\n",
    "#df[\"FormatedPrice\"] = df[\"FormatedPrice\"].apply( lambda x : float(x) )"
   ]
  },
  {
   "cell_type": "code",
   "execution_count": 9,
   "metadata": {},
   "outputs": [],
   "source": [
    "df[\"FormatedPrice\"] = pd.to_numeric( df[\"FormatedPrice\"] , errors = \"coerce\")"
   ]
  },
  {
   "cell_type": "code",
   "execution_count": 10,
   "metadata": {},
   "outputs": [],
   "source": [
    "df = df.dropna( subset =[\"FormatedPrice\"])"
   ]
  },
  {
   "cell_type": "code",
   "execution_count": 11,
   "metadata": {},
   "outputs": [],
   "source": [
    "df = df.sort_values( by = \"FormatedPrice\" , ascending = True).reset_index()"
   ]
  },
  {
   "cell_type": "code",
   "execution_count": 12,
   "metadata": {},
   "outputs": [
    {
     "data": {
      "text/plain": [
       "0     430000\n",
       "1     950000\n",
       "2    1190000\n",
       "3    1700000\n",
       "4    2872000\n",
       "Name: Price, dtype: int64"
      ]
     },
     "execution_count": 12,
     "metadata": {},
     "output_type": "execute_result"
    }
   ],
   "source": [
    "df[\"Price\"].head()"
   ]
  },
  {
   "cell_type": "code",
   "execution_count": 13,
   "metadata": {},
   "outputs": [
    {
     "data": {
      "text/plain": [
       "0     430000.0\n",
       "1     950000.0\n",
       "2    1190000.0\n",
       "3    1700000.0\n",
       "4    2872000.0\n",
       "Name: FormatedPrice, dtype: float64"
      ]
     },
     "execution_count": 13,
     "metadata": {},
     "output_type": "execute_result"
    }
   ],
   "source": [
    "df[\"FormatedPrice\"].head()"
   ]
  },
  {
   "cell_type": "code",
   "execution_count": 14,
   "metadata": {},
   "outputs": [
    {
     "data": {
      "text/html": [
       "<div>\n",
       "<style scoped>\n",
       "    .dataframe tbody tr th:only-of-type {\n",
       "        vertical-align: middle;\n",
       "    }\n",
       "\n",
       "    .dataframe tbody tr th {\n",
       "        vertical-align: top;\n",
       "    }\n",
       "\n",
       "    .dataframe thead th {\n",
       "        text-align: right;\n",
       "    }\n",
       "</style>\n",
       "<table border=\"1\" class=\"dataframe\">\n",
       "  <thead>\n",
       "    <tr style=\"text-align: right;\">\n",
       "      <th></th>\n",
       "      <th>index</th>\n",
       "      <th>Address</th>\n",
       "      <th>AdministrationPrice</th>\n",
       "      <th>AdvertCategoryId</th>\n",
       "      <th>AdvertExternalId</th>\n",
       "      <th>AdvertId</th>\n",
       "      <th>AdvertType</th>\n",
       "      <th>AdvertWASId</th>\n",
       "      <th>Advertising</th>\n",
       "      <th>AgeId</th>\n",
       "      <th>...</th>\n",
       "      <th>Surface</th>\n",
       "      <th>Title</th>\n",
       "      <th>TopAdvert</th>\n",
       "      <th>TotalEnvironment</th>\n",
       "      <th>TransactionId</th>\n",
       "      <th>TransactionType</th>\n",
       "      <th>ViewMapType</th>\n",
       "      <th>ViewMapTypeId</th>\n",
       "      <th>Weather</th>\n",
       "      <th>WeatherId</th>\n",
       "    </tr>\n",
       "  </thead>\n",
       "  <tbody>\n",
       "    <tr>\n",
       "      <th>0</th>\n",
       "      <td>15575</td>\n",
       "      <td>Carrera 13Bis  109 - 11</td>\n",
       "      <td>450000</td>\n",
       "      <td>2</td>\n",
       "      <td></td>\n",
       "      <td>3673486</td>\n",
       "      <td>Used</td>\n",
       "      <td>3673486</td>\n",
       "      <td></td>\n",
       "      <td>2</td>\n",
       "      <td>...</td>\n",
       "      <td>68</td>\n",
       "      <td>Apartamento en Venta - Bogotá Santa Paula</td>\n",
       "      <td>0</td>\n",
       "      <td>0</td>\n",
       "      <td>1</td>\n",
       "      <td>Venta</td>\n",
       "      <td></td>\n",
       "      <td>1</td>\n",
       "      <td></td>\n",
       "      <td>0</td>\n",
       "    </tr>\n",
       "    <tr>\n",
       "      <th>1</th>\n",
       "      <td>1039</td>\n",
       "      <td>CL 7 A BIS 79 35</td>\n",
       "      <td>0</td>\n",
       "      <td>2</td>\n",
       "      <td></td>\n",
       "      <td>3970500</td>\n",
       "      <td>Used</td>\n",
       "      <td>3970500</td>\n",
       "      <td></td>\n",
       "      <td>4</td>\n",
       "      <td>...</td>\n",
       "      <td>60</td>\n",
       "      <td>Apartamento en Venta - Bogotá Castilla</td>\n",
       "      <td>0</td>\n",
       "      <td>0</td>\n",
       "      <td>1</td>\n",
       "      <td>Venta</td>\n",
       "      <td></td>\n",
       "      <td>3</td>\n",
       "      <td></td>\n",
       "      <td>0</td>\n",
       "    </tr>\n",
       "    <tr>\n",
       "      <th>2</th>\n",
       "      <td>5042</td>\n",
       "      <td>SANTA BARBARA CARRERA 10A # 119 -70 APTO 502</td>\n",
       "      <td>1496803</td>\n",
       "      <td>2</td>\n",
       "      <td>VEN-8801</td>\n",
       "      <td>3610084</td>\n",
       "      <td>Used</td>\n",
       "      <td>3610084</td>\n",
       "      <td></td>\n",
       "      <td>4</td>\n",
       "      <td>...</td>\n",
       "      <td>259</td>\n",
       "      <td>Apartamento en Venta - Bogotá SANTA BARBARA</td>\n",
       "      <td>0</td>\n",
       "      <td>0</td>\n",
       "      <td>1</td>\n",
       "      <td>Venta</td>\n",
       "      <td></td>\n",
       "      <td>3</td>\n",
       "      <td></td>\n",
       "      <td>0</td>\n",
       "    </tr>\n",
       "    <tr>\n",
       "      <th>3</th>\n",
       "      <td>16878</td>\n",
       "      <td>Calle 81  8-42</td>\n",
       "      <td>980000</td>\n",
       "      <td>2</td>\n",
       "      <td>Apto Natalie</td>\n",
       "      <td>3921297</td>\n",
       "      <td>Used</td>\n",
       "      <td>3921297</td>\n",
       "      <td></td>\n",
       "      <td>2</td>\n",
       "      <td>...</td>\n",
       "      <td>175</td>\n",
       "      <td>Apartamento en Venta - Bogotá La Cabrera</td>\n",
       "      <td>0</td>\n",
       "      <td>0</td>\n",
       "      <td>1</td>\n",
       "      <td>Venta</td>\n",
       "      <td></td>\n",
       "      <td>1</td>\n",
       "      <td></td>\n",
       "      <td>0</td>\n",
       "    </tr>\n",
       "    <tr>\n",
       "      <th>4</th>\n",
       "      <td>8903</td>\n",
       "      <td>El Nogal Calle 76 # 8 - 50</td>\n",
       "      <td>1781700</td>\n",
       "      <td>2</td>\n",
       "      <td>VEN-103275</td>\n",
       "      <td>3939455</td>\n",
       "      <td>Used</td>\n",
       "      <td>3939455</td>\n",
       "      <td></td>\n",
       "      <td>5</td>\n",
       "      <td>...</td>\n",
       "      <td>429</td>\n",
       "      <td>Apartamento en Venta - Bogotá El Nogal</td>\n",
       "      <td>0</td>\n",
       "      <td>0</td>\n",
       "      <td>1</td>\n",
       "      <td>Venta</td>\n",
       "      <td></td>\n",
       "      <td>3</td>\n",
       "      <td></td>\n",
       "      <td>0</td>\n",
       "    </tr>\n",
       "  </tbody>\n",
       "</table>\n",
       "<p>5 rows × 99 columns</p>\n",
       "</div>"
      ],
      "text/plain": [
       "   index                                       Address  AdministrationPrice  \\\n",
       "0  15575                       Carrera 13Bis  109 - 11               450000   \n",
       "1   1039                              CL 7 A BIS 79 35                    0   \n",
       "2   5042  SANTA BARBARA CARRERA 10A # 119 -70 APTO 502              1496803   \n",
       "3  16878                                Calle 81  8-42               980000   \n",
       "4   8903                    El Nogal Calle 76 # 8 - 50              1781700   \n",
       "\n",
       "   AdvertCategoryId AdvertExternalId  AdvertId AdvertType  AdvertWASId  \\\n",
       "0                 2                    3673486       Used      3673486   \n",
       "1                 2                    3970500       Used      3970500   \n",
       "2                 2         VEN-8801   3610084       Used      3610084   \n",
       "3                 2     Apto Natalie   3921297       Used      3921297   \n",
       "4                 2       VEN-103275   3939455       Used      3939455   \n",
       "\n",
       "  Advertising  AgeId    ...     Surface  \\\n",
       "0                  2    ...          68   \n",
       "1                  4    ...          60   \n",
       "2                  4    ...         259   \n",
       "3                  2    ...         175   \n",
       "4                  5    ...         429   \n",
       "\n",
       "                                         Title  TopAdvert  TotalEnvironment  \\\n",
       "0    Apartamento en Venta - Bogotá Santa Paula          0                 0   \n",
       "1       Apartamento en Venta - Bogotá Castilla          0                 0   \n",
       "2  Apartamento en Venta - Bogotá SANTA BARBARA          0                 0   \n",
       "3     Apartamento en Venta - Bogotá La Cabrera          0                 0   \n",
       "4       Apartamento en Venta - Bogotá El Nogal          0                 0   \n",
       "\n",
       "  TransactionId  TransactionType ViewMapType  ViewMapTypeId Weather  WeatherId  \n",
       "0             1            Venta                          1                  0  \n",
       "1             1            Venta                          3                  0  \n",
       "2             1            Venta                          3                  0  \n",
       "3             1            Venta                          1                  0  \n",
       "4             1            Venta                          3                  0  \n",
       "\n",
       "[5 rows x 99 columns]"
      ]
     },
     "execution_count": 14,
     "metadata": {},
     "output_type": "execute_result"
    }
   ],
   "source": [
    "df.head()"
   ]
  },
  {
   "cell_type": "code",
   "execution_count": 15,
   "metadata": {},
   "outputs": [
    {
     "data": {
      "text/plain": [
       "0     430000.0\n",
       "1     950000.0\n",
       "2    1190000.0\n",
       "3    1700000.0\n",
       "4    2872000.0\n",
       "Name: FormatedPrice, dtype: float64"
      ]
     },
     "execution_count": 15,
     "metadata": {},
     "output_type": "execute_result"
    }
   ],
   "source": [
    "df[\"FormatedPrice\"].head()"
   ]
  },
  {
   "cell_type": "code",
   "execution_count": 16,
   "metadata": {},
   "outputs": [
    {
     "data": {
      "text/plain": [
       "0     430000\n",
       "1     950000\n",
       "2    1190000\n",
       "3    1700000\n",
       "4    2872000\n",
       "Name: Price, dtype: int64"
      ]
     },
     "execution_count": 16,
     "metadata": {},
     "output_type": "execute_result"
    }
   ],
   "source": [
    "df[\"Price\"].head()"
   ]
  },
  {
   "cell_type": "code",
   "execution_count": 17,
   "metadata": {},
   "outputs": [],
   "source": [
    "df.head()\n",
    "df[\"Location3\"] = df[\"Location3\"].apply( lambda x : x.replace(\"Zona\",\"\"))"
   ]
  },
  {
   "cell_type": "code",
   "execution_count": 18,
   "metadata": {},
   "outputs": [
    {
     "data": {
      "text/plain": [
       "count    1.711000e+04\n",
       "mean     2.377967e+10\n",
       "std      2.981896e+12\n",
       "min      4.300000e+05\n",
       "25%      2.300000e+08\n",
       "50%      3.800000e+08\n",
       "75%      6.500000e+08\n",
       "max      3.900390e+14\n",
       "Name: Price, dtype: float64"
      ]
     },
     "execution_count": 18,
     "metadata": {},
     "output_type": "execute_result"
    }
   ],
   "source": [
    "df[\"Price\"].describe()"
   ]
  },
  {
   "cell_type": "code",
   "execution_count": 19,
   "metadata": {},
   "outputs": [
    {
     "data": {
      "text/plain": [
       "0   -74.041870\n",
       "1   -74.145653\n",
       "2   -74.031998\n",
       "3   -74.051071\n",
       "4   -74.054001\n",
       "Name: Longitude, dtype: float64"
      ]
     },
     "execution_count": 19,
     "metadata": {},
     "output_type": "execute_result"
    }
   ],
   "source": [
    "df[\"Longitude\"].head()"
   ]
  },
  {
   "cell_type": "code",
   "execution_count": 20,
   "metadata": {},
   "outputs": [
    {
     "name": "stdout",
     "output_type": "stream",
     "text": [
      "index 15575\n",
      "Address Carrera 13Bis  109 - 11\n",
      "AdministrationPrice 450000\n",
      "AdvertCategoryId 2\n",
      "AdvertExternalId \n",
      "AdvertId 3673486\n",
      "AdvertType Used\n",
      "AdvertWASId 3673486\n",
      "Advertising \n",
      "AgeId 2\n",
      "Ages 1 a 8 años\n",
      "Area 68\n",
      "Baths 2\n",
      "Capacity -1\n",
      "Category1 Apartamento\n",
      "Category1Id 8\n",
      "Category2 \n",
      "Category2Id 0\n",
      "Category3 \n",
      "Category3Id 0\n",
      "ClientId 715074\n",
      "ClientLogoURL 715074_p.jpg\n",
      "ClientName Inmobiliaria Nuevo Futuro SAS\n",
      "ClientParentLevel 0\n",
      "ClientURL inmobiliaria-inmobiliaria-nuevo-futuro-sas-715074.aspx\n",
      "Condition Excelente\n",
      "ConditionId 2\n",
      "ContractType Professional\n",
      "DeliveryDate \n",
      "Description Cuarto piso exterior,  iluminado,  excelente ubicación cerca a vías principales,  sector tranquilo y residencial,  modernos acabados,  cuenta con su Alcoba,  2 baños,  sala comedor,  cocina abierta,  zona de lavandería,  2 Garajes y Deposito. Este inmueble esta arrendado,  se vende como inversión con retorno inmediato para quien este interesado..\n",
      "Email1 \n",
      "Email2 \n",
      "Email3 \n",
      "Extras Interiores$Baño Auxiliar, Calentador, Citófono, Depósito / Bodega, Instalación de gas, Zona de lavandería|Exteriores$Ascensor, Portería / Recepción, Salón Comunal, Terraza, Vigilancia, Zona Infantil|del Sector$Parques cercanos, Trans. Público cercano, Zona Residencial\n",
      "ExtrasId 121,128,130,11,133,134,13,115,112,10,119,106,142,141,139\n",
      "Financing \n",
      "Floor 4º\n",
      "FloorId 4\n",
      "FormatedLivingArea 68,00 m2\n",
      "FormatedPrice 430000.0\n",
      "FormatedPriceM2 6.324/m²\n",
      "FormatedSurface 68,00 m2\n",
      "Garages 2\n",
      "GaragesId 0\n",
      "GridDate 8/28/2018 3:11:39 PM\n",
      "GroupName \n",
      "GroupType 0\n",
      "IncludesAdministration False\n",
      "InteriorFloors 0\n",
      "Keywords \n",
      "Latitude 4.69125270843506\n",
      "LivingArea 0\n",
      "Location1 Cundinamarca\n",
      "Location1Id 67\n",
      "Location2 Bogotá\n",
      "Location2Id 3630001\n",
      "Location3  Norte\n",
      "Location3Id 3630101\n",
      "Location4 Santa Paula\n",
      "Location4Id 3632072\n",
      "LocationType -1\n",
      "Longitude -74.0418701171875\n",
      "ModifyDate 8/28/2018 3:11:39 PM\n",
      "Neighborhood Santa Paula\n",
      "NumPhotos 13\n",
      "NumVideos 0\n",
      "OriginId 23\n",
      "OutStanding False\n",
      "ParentLevel 0\n",
      "Phone \n",
      "Phone2 \n",
      "Phone3 \n",
      "PhoneClickToCall \n",
      "PhoneWhatsApp \n",
      "PhotoUrl 2018/06/02/3673486/apartamento-venta-cundinamarca-bogota-155994136_p.jpg\n",
      "Price 430000\n",
      "PriceM2 6323.53\n",
      "PriceType \n",
      "PriceTypeId 0\n",
      "ProductLabel \n",
      "ProductsCode \n",
      "PromotionLogoURL \n",
      "QualityRate 0\n",
      "Rooms 1\n",
      "Schedule \n",
      "SemanticText /apartamento-en-venta/bogota/santa_paula-det-3673486.aspx\n",
      "Status Active\n",
      "Stratum 5\n",
      "StratumId 0\n",
      "Surface 68\n",
      "Title Apartamento en Venta - Bogotá Santa Paula\n",
      "TopAdvert 0\n",
      "TotalEnvironment 0\n",
      "TransactionId 1\n",
      "TransactionType Venta\n",
      "ViewMapType \n",
      "ViewMapTypeId 1\n",
      "Weather \n",
      "WeatherId 0\n"
     ]
    }
   ],
   "source": [
    "df.loc[100]\n",
    "for i , j in zip(df.columns , df.loc[0]):\n",
    "    print( i , j )"
   ]
  },
  {
   "cell_type": "code",
   "execution_count": 21,
   "metadata": {},
   "outputs": [
    {
     "data": {
      "text/plain": [
       "(17110, 99)"
      ]
     },
     "execution_count": 21,
     "metadata": {},
     "output_type": "execute_result"
    }
   ],
   "source": [
    "df.shape"
   ]
  },
  {
   "cell_type": "code",
   "execution_count": 22,
   "metadata": {},
   "outputs": [],
   "source": [
    "df_venta = df[ df[\"TransactionType\"] == \"Venta\"]"
   ]
  },
  {
   "cell_type": "code",
   "execution_count": 23,
   "metadata": {},
   "outputs": [
    {
     "data": {
      "text/plain": [
       "(17110, 99)"
      ]
     },
     "execution_count": 23,
     "metadata": {},
     "output_type": "execute_result"
    }
   ],
   "source": [
    "df_venta.shape"
   ]
  },
  {
   "cell_type": "code",
   "execution_count": 24,
   "metadata": {},
   "outputs": [
    {
     "data": {
      "text/plain": [
       "Apartamento       11857\n",
       "Casa               5249\n",
       "Proyecto Nuevo        4\n",
       "Name: Category1, dtype: int64"
      ]
     },
     "execution_count": 24,
     "metadata": {},
     "output_type": "execute_result"
    }
   ],
   "source": [
    "df[\"Category1\"].value_counts()"
   ]
  },
  {
   "cell_type": "code",
   "execution_count": 25,
   "metadata": {},
   "outputs": [],
   "source": [
    "df_apt = df[ df[\"Category1\"] == \"Apartamento\"]\n",
    "df_house = df[ df[\"Category1\"] == \"Casa\" ]"
   ]
  },
  {
   "cell_type": "code",
   "execution_count": 26,
   "metadata": {},
   "outputs": [
    {
     "data": {
      "text/plain": [
       "17100    2.300000e+11\n",
       "17105    5.000000e+11\n",
       "17106    7.000000e+11\n",
       "17107    1.350000e+12\n",
       "17109    3.900390e+14\n",
       "Name: FormatedPrice, dtype: float64"
      ]
     },
     "execution_count": 26,
     "metadata": {},
     "output_type": "execute_result"
    }
   ],
   "source": [
    "df_apt[\"FormatedPrice\"].tail()"
   ]
  },
  {
   "cell_type": "code",
   "execution_count": 27,
   "metadata": {},
   "outputs": [
    {
     "data": {
      "image/png": "[encoded data removed]",
      "text/plain": [
       "<matplotlib.figure.Figure at 0x7f1398ac6e80>"
      ]
     },
     "metadata": {},
     "output_type": "display_data"
    }
   ],
   "source": [
    "plt.hist(   df_apt[\"FormatedPrice\"][:10000]/1e6 , bins = 25 )\n",
    "plt.title(\" Precios Apartamentos\")\n",
    "plt.xlabel( \"Precio( $Millones)\" )\n",
    "plt.ylabel(\" Frecuencia\")\n",
    "plt.savefig(\"../data/hist_apts.png\")\n",
    "plt.show()"
   ]
  },
  {
   "cell_type": "code",
   "execution_count": 28,
   "metadata": {},
   "outputs": [
    {
     "data": {
      "image/png": "[encoded data removed]",
      "text/plain": [
       "<matplotlib.figure.Figure at 0x7f1398a19f98>"
      ]
     },
     "metadata": {},
     "output_type": "display_data"
    }
   ],
   "source": [
    "plt.hist(   df_house[\"FormatedPrice\"][:5000]/1e6 , bins = 25 )\n",
    "plt.title(\" Precios Casas\")\n",
    "plt.xlabel( \"Precio( $Millones)\" )\n",
    "plt.ylabel(\" Frecuencia\")\n",
    "plt.savefig(\"../data/hist_hs.png\")\n",
    "plt.show()"
   ]
  },
  {
   "cell_type": "code",
   "execution_count": 29,
   "metadata": {},
   "outputs": [
    {
     "data": {
      "text/plain": [
       "(5249, 99)"
      ]
     },
     "execution_count": 29,
     "metadata": {},
     "output_type": "execute_result"
    }
   ],
   "source": [
    "df_house.shape"
   ]
  },
  {
   "cell_type": "code",
   "execution_count": 30,
   "metadata": {},
   "outputs": [
    {
     "data": {
      "image/png": "[encoded data removed]",
      "text/plain": [
       "<matplotlib.figure.Figure at 0x7f1398992828>"
      ]
     },
     "metadata": {},
     "output_type": "display_data"
    }
   ],
   "source": [
    "plt.hist( df_apt[\"Area\"].sort_values( )[:11000] ,   )\n",
    "plt.title(\"Area  apartamentos\")\n",
    "plt.xlabel( \"Area(M2)\" )\n",
    "plt.ylabel(\" Frecuencia\")\n",
    "plt.savefig(\"../data/hist_area_apts.png\")\n",
    "plt.show()"
   ]
  },
  {
   "cell_type": "code",
   "execution_count": 31,
   "metadata": {},
   "outputs": [
    {
     "data": {
      "image/png": "[encoded data removed]",
      "text/plain": [
       "<matplotlib.figure.Figure at 0x7f13989585f8>"
      ]
     },
     "metadata": {},
     "output_type": "display_data"
    }
   ],
   "source": [
    "plt.hist( df_house[\"Area\"].sort_values( )[:5000] ,   )\n",
    "plt.title(\" Areas Casas\")\n",
    "plt.xlabel( \"Area(M2)\" )\n",
    "plt.ylabel(\" Frecuencia\")\n",
    "plt.savefig(\"../data/hist_area_hs.png\")\n",
    "plt.show()"
   ]
  },
  {
   "cell_type": "code",
   "execution_count": 32,
   "metadata": {},
   "outputs": [
    {
     "data": {
      "text/plain": [
       "0     68\n",
       "1     60\n",
       "2    259\n",
       "3    175\n",
       "4    429\n",
       "Name: Area, dtype: int64"
      ]
     },
     "execution_count": 32,
     "metadata": {},
     "output_type": "execute_result"
    }
   ],
   "source": [
    "df_apt[\"Area\"].head()"
   ]
  },
  {
   "cell_type": "code",
   "execution_count": 33,
   "metadata": {},
   "outputs": [],
   "source": [
    "x_inx = df_apt[\"FormatedPrice\"]/1e6 < 700\n",
    "y_inx = df_apt[\"Area\"] < 1000\n",
    "x_apt = df_apt[\"FormatedPrice\"][ x_inx & y_inx]/1e6\n",
    "y_apt = df_apt[\"Area\"][ x_inx & y_inx]\n",
    "\n",
    "x_inx = df_house[\"FormatedPrice\"]/1e6 < 2000\n",
    "y_inx = df_house[\"Area\"] < 1000\n",
    "x_hs = df_house[\"FormatedPrice\"][ x_inx & y_inx]/1e6\n",
    "y_hs = df_house[\"Area\"][ x_inx & y_inx]\n",
    "\n",
    "\n",
    "\n"
   ]
  },
  {
   "cell_type": "code",
   "execution_count": 34,
   "metadata": {},
   "outputs": [
    {
     "data": {
      "image/png": "[encoded data removed]",
      "text/plain": [
       "<matplotlib.figure.Figure at 0x7f13989aca90>"
      ]
     },
     "metadata": {},
     "output_type": "display_data"
    }
   ],
   "source": [
    "plt.scatter( x_apt , y_apt , label = \"Aptos\"   )\n",
    "#plt.scatter( x_hs , y_hs  , label = \"Casas\" , alpha = 0.6)\n",
    "plt.legend()\n",
    "plt.xlabel(\"Precio ( $ Millones)\")\n",
    "plt.ylabel(\"Area(M2)\")\n",
    "plt.savefig(\"../data/precio_area_apts.png\")\n",
    "plt.show()"
   ]
  },
  {
   "cell_type": "code",
   "execution_count": 35,
   "metadata": {},
   "outputs": [
    {
     "data": {
      "image/png": "[encoded data removed]",
      "text/plain": [
       "<matplotlib.figure.Figure at 0x7f13989c9080>"
      ]
     },
     "metadata": {},
     "output_type": "display_data"
    }
   ],
   "source": [
    "plt.scatter( x_hs , y_hs , label = \"Casas\"   )\n",
    "#plt.scatter( x_hs , y_hs  , label = \"Casas\" , alpha = 0.6)\n",
    "plt.legend()\n",
    "plt.xlabel(\"Precio ( $ Millones)\")\n",
    "plt.ylabel(\"Area(M2)\")\n",
    "plt.savefig(\"../data/precio_area_hs.png\")\n",
    "plt.show()"
   ]
  },
  {
   "cell_type": "code",
   "execution_count": 36,
   "metadata": {},
   "outputs": [
    {
     "data": {
      "text/plain": [
       "(11857, 99)"
      ]
     },
     "execution_count": 36,
     "metadata": {},
     "output_type": "execute_result"
    }
   ],
   "source": [
    "df_apt.shape"
   ]
  },
  {
   "cell_type": "code",
   "execution_count": 37,
   "metadata": {},
   "outputs": [
    {
     "data": {
      "text/plain": [
       " Norte           4994\n",
       " Noroccidente    2831\n",
       " Occidente       2050\n",
       " Sur              800\n",
       " Chapinero        529\n",
       "                  446\n",
       " Centro           207\n",
       "Name: Location3, dtype: int64"
      ]
     },
     "execution_count": 37,
     "metadata": {},
     "output_type": "execute_result"
    }
   ],
   "source": [
    "df_apt[\"Location3\"].value_counts()"
   ]
  },
  {
   "cell_type": "code",
   "execution_count": 38,
   "metadata": {},
   "outputs": [],
   "source": [
    "#df_apt[\"Neighborhood\"].value_counts()"
   ]
  },
  {
   "cell_type": "code",
   "execution_count": 39,
   "metadata": {},
   "outputs": [
    {
     "data": {
      "text/plain": [
       "1 a 8 años        3840\n",
       "16 a 30 años      3001\n",
       "9 a 15 años       2260\n",
       "                  1392\n",
       "Menos de 1 año     800\n",
       "Más de 30 años     564\n",
       "Name: Ages, dtype: int64"
      ]
     },
     "execution_count": 39,
     "metadata": {},
     "output_type": "execute_result"
    }
   ],
   "source": [
    "\n",
    "df_apt[\"Ages\"].value_counts()"
   ]
  },
  {
   "cell_type": "code",
   "execution_count": 40,
   "metadata": {},
   "outputs": [],
   "source": [
    "df_apt_r = df_apt[ df_apt[\"FormatedPrice\"]/1e6 < 1000 ]\n",
    "gp_apt = df_apt_r.groupby(  by = [ \"Location3\" ] )[\"FormatedPrice\"].mean().reset_index()\n",
    "\n",
    "df_apt_r = df_house[ df_house[\"FormatedPrice\"]/1e6 < 3000 ]\n",
    "gp_hs = df_apt_r.groupby(  by = [ \"Location3\" ] )[\"FormatedPrice\"].mean().reset_index()\n"
   ]
  },
  {
   "cell_type": "code",
   "execution_count": 41,
   "metadata": {},
   "outputs": [
    {
     "data": {
      "text/html": [
       "<div>\n",
       "<style scoped>\n",
       "    .dataframe tbody tr th:only-of-type {\n",
       "        vertical-align: middle;\n",
       "    }\n",
       "\n",
       "    .dataframe tbody tr th {\n",
       "        vertical-align: top;\n",
       "    }\n",
       "\n",
       "    .dataframe thead th {\n",
       "        text-align: right;\n",
       "    }\n",
       "</style>\n",
       "<table border=\"1\" class=\"dataframe\">\n",
       "  <thead>\n",
       "    <tr style=\"text-align: right;\">\n",
       "      <th></th>\n",
       "      <th>Location3</th>\n",
       "      <th>FormatedPrice</th>\n",
       "    </tr>\n",
       "  </thead>\n",
       "  <tbody>\n",
       "    <tr>\n",
       "      <th>0</th>\n",
       "      <td></td>\n",
       "      <td>3.415796e+08</td>\n",
       "    </tr>\n",
       "    <tr>\n",
       "      <th>1</th>\n",
       "      <td>Centro</td>\n",
       "      <td>3.764222e+08</td>\n",
       "    </tr>\n",
       "    <tr>\n",
       "      <th>2</th>\n",
       "      <td>Chapinero</td>\n",
       "      <td>4.329256e+08</td>\n",
       "    </tr>\n",
       "    <tr>\n",
       "      <th>3</th>\n",
       "      <td>Noroccidente</td>\n",
       "      <td>3.350443e+08</td>\n",
       "    </tr>\n",
       "    <tr>\n",
       "      <th>4</th>\n",
       "      <td>Norte</td>\n",
       "      <td>5.011877e+08</td>\n",
       "    </tr>\n",
       "    <tr>\n",
       "      <th>5</th>\n",
       "      <td>Occidente</td>\n",
       "      <td>2.837593e+08</td>\n",
       "    </tr>\n",
       "    <tr>\n",
       "      <th>6</th>\n",
       "      <td>Sur</td>\n",
       "      <td>1.443058e+08</td>\n",
       "    </tr>\n",
       "  </tbody>\n",
       "</table>\n",
       "</div>"
      ],
      "text/plain": [
       "       Location3  FormatedPrice\n",
       "0                  3.415796e+08\n",
       "1         Centro   3.764222e+08\n",
       "2      Chapinero   4.329256e+08\n",
       "3   Noroccidente   3.350443e+08\n",
       "4          Norte   5.011877e+08\n",
       "5      Occidente   2.837593e+08\n",
       "6            Sur   1.443058e+08"
      ]
     },
     "execution_count": 41,
     "metadata": {},
     "output_type": "execute_result"
    }
   ],
   "source": [
    "gp_apt"
   ]
  },
  {
   "cell_type": "code",
   "execution_count": 42,
   "metadata": {},
   "outputs": [],
   "source": [
    "import seaborn as sns\n",
    "sns.set(rc={'figure.figsize':(11.7,8.27)})"
   ]
  },
  {
   "cell_type": "code",
   "execution_count": 43,
   "metadata": {},
   "outputs": [
    {
     "data": {
      "image/png": "[encoded data removed]",
      "text/plain": [
       "<matplotlib.figure.Figure at 0x7f1398461048>"
      ]
     },
     "metadata": {},
     "output_type": "display_data"
    }
   ],
   "source": [
    "gp_apt[\"FormatedPrice\"] = gp_apt[\"FormatedPrice\"]/1e6\n",
    "data = gp_apt[ [\"Location3\" , \"FormatedPrice\"]]\n",
    "ax = sns.barplot( x = \"Location3\" , y = \"FormatedPrice\" , data = data )  \n",
    "for item in ax.get_xticklabels():\n",
    "    item.set_rotation(90)\n",
    "    \n",
    "\n",
    "a4_dims = (11.7, 8.27)\n",
    "plt.title(\"Precio promedio - Apartamentos - sector\")\n",
    "plt.xlabel(\"Ubicacion\")\n",
    "plt.ylabel( \"Precio ($Millones)\" )\n",
    "#plt.figure(figsize=(20,15))\n",
    "plt.savefig(\"../data/precio_apts_sector.png\")\n",
    "\n",
    "plt.show()"
   ]
  },
  {
   "cell_type": "code",
   "execution_count": 44,
   "metadata": {},
   "outputs": [
    {
     "data": {
      "image/png": "[encoded data removed]",
      "text/plain": [
       "<matplotlib.figure.Figure at 0x7f1398898908>"
      ]
     },
     "metadata": {},
     "output_type": "display_data"
    }
   ],
   "source": [
    "\n",
    "gp_hs[\"FormatedPrice\"] = gp_hs[\"FormatedPrice\"]/1e6\n",
    "data = gp_hs[ [\"Location3\" , \"FormatedPrice\"]]\n",
    "ax = sns.barplot( x = \"Location3\" , y = \"FormatedPrice\" , data = data )  \n",
    "for item in ax.get_xticklabels():\n",
    "    item.set_rotation(90)\n",
    "    \n",
    "\n",
    "a4_dims = (11.7, 8.27)\n",
    "plt.title(\"Precio promedio - Casas\")\n",
    "plt.xlabel(\"Ubicacion\")\n",
    "plt.ylabel( \"Precio ($Millones)\" )\n",
    "#plt.figure(figsize=(20,15))\n",
    "plt.savefig(\"../data/precio_hs_sector.png\")\n",
    "plt.show()"
   ]
  },
  {
   "cell_type": "code",
   "execution_count": 45,
   "metadata": {},
   "outputs": [],
   "source": [
    "df_apt_r = df_apt[ df_apt[\"Area\"] < 1000 ]\n",
    "gp_apt = df_apt_r.groupby(  by = [ \"Location3\" ] )[\"Area\"].mean().reset_index()\n",
    "\n",
    "df_apt_r = df_house[ df_house[\"Area\"] < 3000 ]\n",
    "gp_hs = df_apt_r.groupby(  by = [ \"Location3\" ] )[\"Area\"].mean().reset_index()"
   ]
  },
  {
   "cell_type": "code",
   "execution_count": 46,
   "metadata": {},
   "outputs": [
    {
     "data": {
      "text/html": [
       "<div>\n",
       "<style scoped>\n",
       "    .dataframe tbody tr th:only-of-type {\n",
       "        vertical-align: middle;\n",
       "    }\n",
       "\n",
       "    .dataframe tbody tr th {\n",
       "        vertical-align: top;\n",
       "    }\n",
       "\n",
       "    .dataframe thead th {\n",
       "        text-align: right;\n",
       "    }\n",
       "</style>\n",
       "<table border=\"1\" class=\"dataframe\">\n",
       "  <thead>\n",
       "    <tr style=\"text-align: right;\">\n",
       "      <th></th>\n",
       "      <th>Location3</th>\n",
       "      <th>Area</th>\n",
       "    </tr>\n",
       "  </thead>\n",
       "  <tbody>\n",
       "    <tr>\n",
       "      <th>0</th>\n",
       "      <td></td>\n",
       "      <td>191.644550</td>\n",
       "    </tr>\n",
       "    <tr>\n",
       "      <th>1</th>\n",
       "      <td>Centro</td>\n",
       "      <td>285.026549</td>\n",
       "    </tr>\n",
       "    <tr>\n",
       "      <th>2</th>\n",
       "      <td>Chapinero</td>\n",
       "      <td>307.686391</td>\n",
       "    </tr>\n",
       "    <tr>\n",
       "      <th>3</th>\n",
       "      <td>Noroccidente</td>\n",
       "      <td>207.867657</td>\n",
       "    </tr>\n",
       "    <tr>\n",
       "      <th>4</th>\n",
       "      <td>Norte</td>\n",
       "      <td>244.179487</td>\n",
       "    </tr>\n",
       "  </tbody>\n",
       "</table>\n",
       "</div>"
      ],
      "text/plain": [
       "       Location3        Area\n",
       "0                 191.644550\n",
       "1         Centro  285.026549\n",
       "2      Chapinero  307.686391\n",
       "3   Noroccidente  207.867657\n",
       "4          Norte  244.179487"
      ]
     },
     "execution_count": 46,
     "metadata": {},
     "output_type": "execute_result"
    }
   ],
   "source": [
    "gp_hs.head()"
   ]
  },
  {
   "cell_type": "code",
   "execution_count": 47,
   "metadata": {},
   "outputs": [
    {
     "data": {
      "image/png": "[encoded data removed]",
      "text/plain": [
       "<matplotlib.figure.Figure at 0x7f1398906908>"
      ]
     },
     "metadata": {},
     "output_type": "display_data"
    }
   ],
   "source": [
    "\n",
    "data = gp_apt[ [\"Location3\" , \"Area\"]]\n",
    "ax = sns.barplot( x = \"Location3\" , y = \"Area\" , data = data )  \n",
    "for item in ax.get_xticklabels():\n",
    "    item.set_rotation(90)\n",
    "    \n",
    "\n",
    "a4_dims = (11.7, 8.27)\n",
    "plt.title(\"Area promedio - Apartamentos - sector\")\n",
    "plt.xlabel(\"Area\")\n",
    "plt.ylabel( \"Area(M2)\" )\n",
    "#plt.figure(figsize=(20,15))\n",
    "plt.show()"
   ]
  },
  {
   "cell_type": "code",
   "execution_count": 48,
   "metadata": {},
   "outputs": [
    {
     "data": {
      "image/png": "[encoded data removed]",
      "text/plain": [
       "<matplotlib.figure.Figure at 0x7f1398920d30>"
      ]
     },
     "metadata": {},
     "output_type": "display_data"
    }
   ],
   "source": [
    "data = gp_hs[ [\"Location3\" , \"Area\"]]\n",
    "ax = sns.barplot( x = \"Location3\" , y = \"Area\" , data = data )  \n",
    "for item in ax.get_xticklabels():\n",
    "    item.set_rotation(90)\n",
    "    \n",
    "plt.title(\"Area promedio - Casas - sector\")\n",
    "plt.xlabel(\"Area\")\n",
    "plt.ylabel( \"Area (M2)\" )\n",
    "#plt.figure(figsize=(20,15))\n",
    "plt.show()"
   ]
  },
  {
   "cell_type": "code",
   "execution_count": 49,
   "metadata": {},
   "outputs": [],
   "source": [
    "df_apt_r = df_apt[ df_apt[\"FormatedPrice\"]/1e6 < 1000 ]\n",
    "gp_apt = df_apt_r.groupby(  by = [ \"Location3\" ] )[\"Area\",\"Baths\"].sum().reset_index()\n",
    "\n",
    "df_apt_r = df_house[ df_house[\"FormatedPrice\"]/1e6 < 3000 ]\n",
    "gp_hs = df_apt_r.groupby(  by = [ \"Location3\" ] )[\"Area\" , \"Baths\"].sum().reset_index()\n",
    "\n"
   ]
  },
  {
   "cell_type": "code",
   "execution_count": 50,
   "metadata": {},
   "outputs": [
    {
     "data": {
      "text/html": [
       "<div>\n",
       "<style scoped>\n",
       "    .dataframe tbody tr th:only-of-type {\n",
       "        vertical-align: middle;\n",
       "    }\n",
       "\n",
       "    .dataframe tbody tr th {\n",
       "        vertical-align: top;\n",
       "    }\n",
       "\n",
       "    .dataframe thead th {\n",
       "        text-align: right;\n",
       "    }\n",
       "</style>\n",
       "<table border=\"1\" class=\"dataframe\">\n",
       "  <thead>\n",
       "    <tr style=\"text-align: right;\">\n",
       "      <th></th>\n",
       "      <th>Location3</th>\n",
       "      <th>Area</th>\n",
       "      <th>Baths</th>\n",
       "    </tr>\n",
       "  </thead>\n",
       "  <tbody>\n",
       "    <tr>\n",
       "      <th>0</th>\n",
       "      <td></td>\n",
       "      <td>45239</td>\n",
       "      <td>626</td>\n",
       "    </tr>\n",
       "    <tr>\n",
       "      <th>1</th>\n",
       "      <td>Centro</td>\n",
       "      <td>28881</td>\n",
       "      <td>457</td>\n",
       "    </tr>\n",
       "    <tr>\n",
       "      <th>2</th>\n",
       "      <td>Chapinero</td>\n",
       "      <td>97977</td>\n",
       "      <td>644</td>\n",
       "    </tr>\n",
       "    <tr>\n",
       "      <th>3</th>\n",
       "      <td>Noroccidente</td>\n",
       "      <td>340973</td>\n",
       "      <td>4829</td>\n",
       "    </tr>\n",
       "    <tr>\n",
       "      <th>4</th>\n",
       "      <td>Norte</td>\n",
       "      <td>126327</td>\n",
       "      <td>2125</td>\n",
       "    </tr>\n",
       "  </tbody>\n",
       "</table>\n",
       "</div>"
      ],
      "text/plain": [
       "       Location3    Area  Baths\n",
       "0                  45239    626\n",
       "1         Centro   28881    457\n",
       "2      Chapinero   97977    644\n",
       "3   Noroccidente  340973   4829\n",
       "4          Norte  126327   2125"
      ]
     },
     "execution_count": 50,
     "metadata": {},
     "output_type": "execute_result"
    }
   ],
   "source": [
    "gp_hs.head()"
   ]
  },
  {
   "cell_type": "code",
   "execution_count": 51,
   "metadata": {},
   "outputs": [],
   "source": [
    "gp_apt[\"B/A\"] = gp_apt[\"Baths\"]/gp_apt[\"Area\"]\n",
    "gp_hs[\"B/A\"] = gp_hs[\"Baths\"]/gp_hs[\"Area\"]"
   ]
  },
  {
   "cell_type": "code",
   "execution_count": 52,
   "metadata": {},
   "outputs": [
    {
     "data": {
      "text/html": [
       "<div>\n",
       "<style scoped>\n",
       "    .dataframe tbody tr th:only-of-type {\n",
       "        vertical-align: middle;\n",
       "    }\n",
       "\n",
       "    .dataframe tbody tr th {\n",
       "        vertical-align: top;\n",
       "    }\n",
       "\n",
       "    .dataframe thead th {\n",
       "        text-align: right;\n",
       "    }\n",
       "</style>\n",
       "<table border=\"1\" class=\"dataframe\">\n",
       "  <thead>\n",
       "    <tr style=\"text-align: right;\">\n",
       "      <th></th>\n",
       "      <th>Location3</th>\n",
       "      <th>Area</th>\n",
       "      <th>Baths</th>\n",
       "      <th>B/A</th>\n",
       "    </tr>\n",
       "  </thead>\n",
       "  <tbody>\n",
       "    <tr>\n",
       "      <th>0</th>\n",
       "      <td></td>\n",
       "      <td>45239</td>\n",
       "      <td>626</td>\n",
       "      <td>0.013838</td>\n",
       "    </tr>\n",
       "    <tr>\n",
       "      <th>1</th>\n",
       "      <td>Centro</td>\n",
       "      <td>28881</td>\n",
       "      <td>457</td>\n",
       "      <td>0.015824</td>\n",
       "    </tr>\n",
       "    <tr>\n",
       "      <th>2</th>\n",
       "      <td>Chapinero</td>\n",
       "      <td>97977</td>\n",
       "      <td>644</td>\n",
       "      <td>0.006573</td>\n",
       "    </tr>\n",
       "    <tr>\n",
       "      <th>3</th>\n",
       "      <td>Noroccidente</td>\n",
       "      <td>340973</td>\n",
       "      <td>4829</td>\n",
       "      <td>0.014162</td>\n",
       "    </tr>\n",
       "    <tr>\n",
       "      <th>4</th>\n",
       "      <td>Norte</td>\n",
       "      <td>126327</td>\n",
       "      <td>2125</td>\n",
       "      <td>0.016821</td>\n",
       "    </tr>\n",
       "  </tbody>\n",
       "</table>\n",
       "</div>"
      ],
      "text/plain": [
       "       Location3    Area  Baths       B/A\n",
       "0                  45239    626  0.013838\n",
       "1         Centro   28881    457  0.015824\n",
       "2      Chapinero   97977    644  0.006573\n",
       "3   Noroccidente  340973   4829  0.014162\n",
       "4          Norte  126327   2125  0.016821"
      ]
     },
     "execution_count": 52,
     "metadata": {},
     "output_type": "execute_result"
    }
   ],
   "source": [
    "gp_hs.head()"
   ]
  },
  {
   "cell_type": "code",
   "execution_count": 53,
   "metadata": {},
   "outputs": [
    {
     "data": {
      "image/png": "[encoded data removed]",
      "text/plain": [
       "<matplotlib.figure.Figure at 0x7f13989f9080>"
      ]
     },
     "metadata": {},
     "output_type": "display_data"
    }
   ],
   "source": [
    "data = gp_apt[ [\"Location3\" , \"B/A\"]]\n",
    "ax = sns.barplot( x = \"Location3\" , y = \"B/A\" , data = data )  \n",
    "for item in ax.get_xticklabels():\n",
    "    item.set_rotation(90)\n",
    "    \n",
    "\n",
    "a4_dims = (11.7, 8.27)\n",
    "plt.title(\"Apartamentos - Baños/M2 - Sector\")\n",
    "plt.xlabel(\"Area\")\n",
    "plt.ylabel( \"\" )\n",
    "#plt.figure(figsize=(20,15))\n",
    "plt.savefig(\"../data/baths_apts.png\")\n",
    "plt.show()\n",
    "\n"
   ]
  },
  {
   "cell_type": "code",
   "execution_count": 54,
   "metadata": {},
   "outputs": [
    {
     "data": {
      "image/png": "[encoded data removed]",
      "text/plain": [
       "<matplotlib.figure.Figure at 0x7f1398464080>"
      ]
     },
     "metadata": {},
     "output_type": "display_data"
    }
   ],
   "source": [
    "data = gp_hs[ [\"Location3\" , \"B/A\"]]\n",
    "ax = sns.barplot( x = \"Location3\" , y = \"B/A\" , data = data )  \n",
    "for item in ax.get_xticklabels():\n",
    "    item.set_rotation(90)\n",
    "    \n",
    "\n",
    "a4_dims = (11.7, 8.27)\n",
    "plt.title(\"Casas - Baños/M2 - sector\")\n",
    "plt.xlabel(\"Area\")\n",
    "plt.ylabel( \"\" )\n",
    "#plt.figure(figsize=(20,15))\n",
    "\n",
    "plt.savefig(\"../data/baths_hs.png\")\n",
    "plt.show()\n"
   ]
  },
  {
   "cell_type": "code",
   "execution_count": 55,
   "metadata": {},
   "outputs": [],
   "source": [
    "\n",
    "gp_apt = df_apt.groupby( [\"Latitude\" , \"Longitude\"] )[\"FormatedPrice\"].mean().reset_index()\n",
    "gp_hs = df_house.groupby( [\"Latitude\" , \"Longitude\"] )[\"FormatedPrice\"].mean().reset_index()\n",
    "\n",
    "\n",
    "gp_apt = gp_apt[ gp_apt[\"FormatedPrice\"]/1e6 < 2000 ]\n",
    "gp_hs = gp_hs[ gp_hs[\"FormatedPrice\"]/1e6 < 2000 ]"
   ]
  },
  {
   "cell_type": "code",
   "execution_count": 56,
   "metadata": {},
   "outputs": [],
   "source": [
    "gp_apt = gp_apt.sort_values( by = \"Latitude\" , ascending = False )"
   ]
  },
  {
   "cell_type": "code",
   "execution_count": 57,
   "metadata": {},
   "outputs": [],
   "source": [
    "gp_apt = gp_apt[1:]\n",
    "gp_apt.head()\n",
    "gp_apt = gp_apt.sort_values( by = \"Longitude\" , ascending = False )\n",
    "\n",
    "gp_apt = gp_apt[ gp_apt[\"Latitude\"] != 0 ]\n",
    "gp_apt = gp_apt[ gp_apt[\"Longitude\"] != 0 ]"
   ]
  },
  {
   "cell_type": "code",
   "execution_count": 58,
   "metadata": {},
   "outputs": [
    {
     "data": {
      "text/plain": [
       "-82.4720916748047"
      ]
     },
     "execution_count": 58,
     "metadata": {},
     "output_type": "execute_result"
    }
   ],
   "source": [
    "gp_apt[\"Longitude\"].min()"
   ]
  },
  {
   "cell_type": "code",
   "execution_count": 59,
   "metadata": {},
   "outputs": [],
   "source": [
    "gp_hs = gp_hs.sort_values( by = \"Longitude\" , ascending = True )"
   ]
  },
  {
   "cell_type": "code",
   "execution_count": null,
   "metadata": {},
   "outputs": [],
   "source": []
  },
  {
   "cell_type": "code",
   "execution_count": 60,
   "metadata": {},
   "outputs": [],
   "source": [
    "M = 30\n",
    "mx =  gp_apt[\"FormatedPrice\"].max()\n",
    "gp_apt.loc[: , \"Size\" ] = gp_apt[\"FormatedPrice\"].apply( lambda x: (x/mx)*M  )\n"
   ]
  },
  {
   "cell_type": "code",
   "execution_count": 61,
   "metadata": {},
   "outputs": [],
   "source": [
    "mx =  gp_hs[\"FormatedPrice\"].max()\n",
    "gp_hs.loc[: , \"Size\" ] = gp_hs[\"FormatedPrice\"].apply( lambda x: (x/mx)*M  )"
   ]
  },
  {
   "cell_type": "code",
   "execution_count": 62,
   "metadata": {},
   "outputs": [
    {
     "data": {
      "text/html": [
       "<div>\n",
       "<style scoped>\n",
       "    .dataframe tbody tr th:only-of-type {\n",
       "        vertical-align: middle;\n",
       "    }\n",
       "\n",
       "    .dataframe tbody tr th {\n",
       "        vertical-align: top;\n",
       "    }\n",
       "\n",
       "    .dataframe thead th {\n",
       "        text-align: right;\n",
       "    }\n",
       "</style>\n",
       "<table border=\"1\" class=\"dataframe\">\n",
       "  <thead>\n",
       "    <tr style=\"text-align: right;\">\n",
       "      <th></th>\n",
       "      <th>Latitude</th>\n",
       "      <th>Longitude</th>\n",
       "      <th>FormatedPrice</th>\n",
       "      <th>Size</th>\n",
       "    </tr>\n",
       "  </thead>\n",
       "  <tbody>\n",
       "    <tr>\n",
       "      <th>43</th>\n",
       "      <td>4.502928</td>\n",
       "      <td>-434.115814</td>\n",
       "      <td>3.900000e+08</td>\n",
       "      <td>6.000000</td>\n",
       "    </tr>\n",
       "    <tr>\n",
       "      <th>3543</th>\n",
       "      <td>33.407246</td>\n",
       "      <td>-82.655212</td>\n",
       "      <td>1.050000e+09</td>\n",
       "      <td>16.153846</td>\n",
       "    </tr>\n",
       "    <tr>\n",
       "      <th>3542</th>\n",
       "      <td>12.888666</td>\n",
       "      <td>-77.339371</td>\n",
       "      <td>2.000000e+08</td>\n",
       "      <td>3.076923</td>\n",
       "    </tr>\n",
       "    <tr>\n",
       "      <th>3544</th>\n",
       "      <td>33.782001</td>\n",
       "      <td>-76.504997</td>\n",
       "      <td>9.000000e+08</td>\n",
       "      <td>13.846154</td>\n",
       "    </tr>\n",
       "    <tr>\n",
       "      <th>14</th>\n",
       "      <td>4.344533</td>\n",
       "      <td>-74.375801</td>\n",
       "      <td>2.900000e+08</td>\n",
       "      <td>4.461538</td>\n",
       "    </tr>\n",
       "  </tbody>\n",
       "</table>\n",
       "</div>"
      ],
      "text/plain": [
       "       Latitude   Longitude  FormatedPrice       Size\n",
       "43     4.502928 -434.115814   3.900000e+08   6.000000\n",
       "3543  33.407246  -82.655212   1.050000e+09  16.153846\n",
       "3542  12.888666  -77.339371   2.000000e+08   3.076923\n",
       "3544  33.782001  -76.504997   9.000000e+08  13.846154\n",
       "14     4.344533  -74.375801   2.900000e+08   4.461538"
      ]
     },
     "execution_count": 62,
     "metadata": {},
     "output_type": "execute_result"
    }
   ],
   "source": [
    "gp_hs.head()"
   ]
  },
  {
   "cell_type": "code",
   "execution_count": 63,
   "metadata": {},
   "outputs": [
    {
     "data": {
      "text/html": [
       "<div>\n",
       "<style scoped>\n",
       "    .dataframe tbody tr th:only-of-type {\n",
       "        vertical-align: middle;\n",
       "    }\n",
       "\n",
       "    .dataframe tbody tr th {\n",
       "        vertical-align: top;\n",
       "    }\n",
       "\n",
       "    .dataframe thead th {\n",
       "        text-align: right;\n",
       "    }\n",
       "</style>\n",
       "<table border=\"1\" class=\"dataframe\">\n",
       "  <thead>\n",
       "    <tr style=\"text-align: right;\">\n",
       "      <th></th>\n",
       "      <th>Latitude</th>\n",
       "      <th>Longitude</th>\n",
       "      <th>FormatedPrice</th>\n",
       "      <th>Size</th>\n",
       "    </tr>\n",
       "  </thead>\n",
       "  <tbody>\n",
       "    <tr>\n",
       "      <th>6295</th>\n",
       "      <td>4.728440</td>\n",
       "      <td>74.065933</td>\n",
       "      <td>240000000.0</td>\n",
       "      <td>3.618090</td>\n",
       "    </tr>\n",
       "    <tr>\n",
       "      <th>0</th>\n",
       "      <td>-74.081528</td>\n",
       "      <td>4.713888</td>\n",
       "      <td>895000000.0</td>\n",
       "      <td>13.492462</td>\n",
       "    </tr>\n",
       "    <tr>\n",
       "      <th>1</th>\n",
       "      <td>-74.053551</td>\n",
       "      <td>4.701489</td>\n",
       "      <td>495000000.0</td>\n",
       "      <td>7.462312</td>\n",
       "    </tr>\n",
       "    <tr>\n",
       "      <th>5</th>\n",
       "      <td>-0.005973</td>\n",
       "      <td>0.002002</td>\n",
       "      <td>140000000.0</td>\n",
       "      <td>2.110553</td>\n",
       "    </tr>\n",
       "    <tr>\n",
       "      <th>4</th>\n",
       "      <td>-0.012858</td>\n",
       "      <td>-0.001464</td>\n",
       "      <td>270000000.0</td>\n",
       "      <td>4.070352</td>\n",
       "    </tr>\n",
       "  </tbody>\n",
       "</table>\n",
       "</div>"
      ],
      "text/plain": [
       "       Latitude  Longitude  FormatedPrice       Size\n",
       "6295   4.728440  74.065933    240000000.0   3.618090\n",
       "0    -74.081528   4.713888    895000000.0  13.492462\n",
       "1    -74.053551   4.701489    495000000.0   7.462312\n",
       "5     -0.005973   0.002002    140000000.0   2.110553\n",
       "4     -0.012858  -0.001464    270000000.0   4.070352"
      ]
     },
     "execution_count": 63,
     "metadata": {},
     "output_type": "execute_result"
    }
   ],
   "source": [
    "gp_apt.head()"
   ]
  },
  {
   "cell_type": "code",
   "execution_count": 64,
   "metadata": {},
   "outputs": [
    {
     "data": {
      "text/plain": [
       "'https://plot.ly/~afhuertass/217'"
      ]
     },
     "execution_count": 64,
     "metadata": {},
     "output_type": "execute_result"
    }
   ],
   "source": [
    "\n",
    "data = [ dict(\n",
    "    lat = gp_apt['Latitude'],\n",
    "    lon = gp_apt['Longitude'],\n",
    "    text =  \"$ \" + (gp_apt['FormatedPrice']/1e6).astype(str) +  \"M\"  ,\n",
    "    marker = dict(\n",
    "        opacity = 1.0,\n",
    "        size = gp_apt[\"Size\"],\n",
    "    ),\n",
    "    type = 'scattergeo'\n",
    ") ]\n",
    "\n",
    "layout = dict(\n",
    "    geo = dict(\n",
    "        scope = 'world',\n",
    "        showland = True,\n",
    "        landcolor = \"#D6EFD6\",\n",
    "        subunitcolor = \"rgb(255, 255, 255)\",\n",
    "        countrycolor = \"rgb(255, 255, 255)\",\n",
    "        showlakes = True,\n",
    "        lakecolor = \"rgb(255, 255, 255)\",\n",
    "        showsubunits = True,\n",
    "        showcountries = True,\n",
    "        resolution = 50,\n",
    "        projection = dict(\n",
    "            type = 'Mercator',\n",
    "        ),\n",
    "        lonaxis = dict(\n",
    "            showgrid = True,\n",
    "            gridwidth = 0.5,\n",
    "            range= [ -75, -73.0 ],\n",
    "            dtick = 5 , \n",
    "        \n",
    "        ),\n",
    "        lataxis = dict (\n",
    "            showgrid = True,\n",
    "            gridwidth = 0.5,\n",
    "            range= [ 4.4, 4.9 ],\n",
    "            dtick = 5 , \n",
    "           \n",
    "        ) , \n",
    " \n",
    "    ),\n",
    "    title = 'Precios Aptos Bogota',\n",
    ")\n",
    "fig = { 'data':data, 'layout':layout }\n",
    "#py.iplot(fig, filename='precipitation')\n",
    "#iplot( fig )\n",
    "py.plot( fig , filename = \"AptsBogota.html\")"
   ]
  },
  {
   "cell_type": "code",
   "execution_count": null,
   "metadata": {},
   "outputs": [],
   "source": []
  },
  {
   "cell_type": "code",
   "execution_count": 86,
   "metadata": {},
   "outputs": [],
   "source": [
    "feats = [ \"Ages\" , \"Area\" , \"Baths\" , \"Condition\"  , \"Floor\" , \"Garages\" , \"Location3\" , \"Stratum\" , \"Rooms\" , \"FormatedPrice\" ]\n"
   ]
  },
  {
   "cell_type": "code",
   "execution_count": 87,
   "metadata": {},
   "outputs": [],
   "source": [
    "df_apts = df_apt[ feats ]\n",
    "df_hs = df_house[feats]"
   ]
  },
  {
   "cell_type": "code",
   "execution_count": 88,
   "metadata": {},
   "outputs": [
    {
     "data": {
      "text/html": [
       "<div>\n",
       "<style scoped>\n",
       "    .dataframe tbody tr th:only-of-type {\n",
       "        vertical-align: middle;\n",
       "    }\n",
       "\n",
       "    .dataframe tbody tr th {\n",
       "        vertical-align: top;\n",
       "    }\n",
       "\n",
       "    .dataframe thead th {\n",
       "        text-align: right;\n",
       "    }\n",
       "</style>\n",
       "<table border=\"1\" class=\"dataframe\">\n",
       "  <thead>\n",
       "    <tr style=\"text-align: right;\">\n",
       "      <th></th>\n",
       "      <th>Ages</th>\n",
       "      <th>Area</th>\n",
       "      <th>Baths</th>\n",
       "      <th>Condition</th>\n",
       "      <th>Floor</th>\n",
       "      <th>Garages</th>\n",
       "      <th>Location3</th>\n",
       "      <th>Stratum</th>\n",
       "      <th>Rooms</th>\n",
       "      <th>FormatedPrice</th>\n",
       "    </tr>\n",
       "  </thead>\n",
       "  <tbody>\n",
       "    <tr>\n",
       "      <th>0</th>\n",
       "      <td>1 a 8 años</td>\n",
       "      <td>68</td>\n",
       "      <td>2</td>\n",
       "      <td>Excelente</td>\n",
       "      <td>4º</td>\n",
       "      <td>2</td>\n",
       "      <td>Norte</td>\n",
       "      <td>5</td>\n",
       "      <td>1</td>\n",
       "      <td>430000.0</td>\n",
       "    </tr>\n",
       "    <tr>\n",
       "      <th>1</th>\n",
       "      <td>16 a 30 años</td>\n",
       "      <td>60</td>\n",
       "      <td>1</td>\n",
       "      <td>Bueno</td>\n",
       "      <td>5º</td>\n",
       "      <td>1</td>\n",
       "      <td>Occidente</td>\n",
       "      <td>3</td>\n",
       "      <td>3</td>\n",
       "      <td>950000.0</td>\n",
       "    </tr>\n",
       "    <tr>\n",
       "      <th>2</th>\n",
       "      <td>16 a 30 años</td>\n",
       "      <td>259</td>\n",
       "      <td>5</td>\n",
       "      <td>Bueno</td>\n",
       "      <td></td>\n",
       "      <td>3</td>\n",
       "      <td>Norte</td>\n",
       "      <td>6</td>\n",
       "      <td>4</td>\n",
       "      <td>1190000.0</td>\n",
       "    </tr>\n",
       "    <tr>\n",
       "      <th>3</th>\n",
       "      <td>1 a 8 años</td>\n",
       "      <td>175</td>\n",
       "      <td>5</td>\n",
       "      <td>Excelente</td>\n",
       "      <td>2º</td>\n",
       "      <td>2</td>\n",
       "      <td>Norte</td>\n",
       "      <td>6</td>\n",
       "      <td>3</td>\n",
       "      <td>1700000.0</td>\n",
       "    </tr>\n",
       "    <tr>\n",
       "      <th>4</th>\n",
       "      <td>Más de 30 años</td>\n",
       "      <td>429</td>\n",
       "      <td>4</td>\n",
       "      <td>Bueno</td>\n",
       "      <td></td>\n",
       "      <td>3</td>\n",
       "      <td>Chapinero</td>\n",
       "      <td>6</td>\n",
       "      <td>3</td>\n",
       "      <td>2872000.0</td>\n",
       "    </tr>\n",
       "  </tbody>\n",
       "</table>\n",
       "</div>"
      ],
      "text/plain": [
       "             Ages  Area  Baths  Condition Floor Garages   Location3 Stratum  \\\n",
       "0      1 a 8 años    68      2  Excelente    4º       2       Norte       5   \n",
       "1    16 a 30 años    60      1      Bueno    5º       1   Occidente       3   \n",
       "2    16 a 30 años   259      5      Bueno             3       Norte       6   \n",
       "3      1 a 8 años   175      5  Excelente    2º       2       Norte       6   \n",
       "4  Más de 30 años   429      4      Bueno             3   Chapinero       6   \n",
       "\n",
       "   Rooms  FormatedPrice  \n",
       "0      1       430000.0  \n",
       "1      3       950000.0  \n",
       "2      4      1190000.0  \n",
       "3      3      1700000.0  \n",
       "4      3      2872000.0  "
      ]
     },
     "execution_count": 88,
     "metadata": {},
     "output_type": "execute_result"
    }
   ],
   "source": [
    "df_apts.head()"
   ]
  },
  {
   "cell_type": "code",
   "execution_count": 84,
   "metadata": {},
   "outputs": [
    {
     "data": {
      "text/html": [
       "<div>\n",
       "<style scoped>\n",
       "    .dataframe tbody tr th:only-of-type {\n",
       "        vertical-align: middle;\n",
       "    }\n",
       "\n",
       "    .dataframe tbody tr th {\n",
       "        vertical-align: top;\n",
       "    }\n",
       "\n",
       "    .dataframe thead th {\n",
       "        text-align: right;\n",
       "    }\n",
       "</style>\n",
       "<table border=\"1\" class=\"dataframe\">\n",
       "  <thead>\n",
       "    <tr style=\"text-align: right;\">\n",
       "      <th></th>\n",
       "      <th>Ages</th>\n",
       "      <th>Area</th>\n",
       "      <th>Baths</th>\n",
       "      <th>Condition</th>\n",
       "      <th>Floor</th>\n",
       "      <th>Garages</th>\n",
       "      <th>Location3</th>\n",
       "      <th>Stratum</th>\n",
       "      <th>Rooms</th>\n",
       "      <th>FormatedPrice</th>\n",
       "      <th>InteriorFloors</th>\n",
       "    </tr>\n",
       "  </thead>\n",
       "  <tbody>\n",
       "    <tr>\n",
       "      <th>6</th>\n",
       "      <td>16 a 30 años</td>\n",
       "      <td>500</td>\n",
       "      <td>3</td>\n",
       "      <td></td>\n",
       "      <td></td>\n",
       "      <td>2</td>\n",
       "      <td></td>\n",
       "      <td>6</td>\n",
       "      <td>6</td>\n",
       "      <td>19000000.0</td>\n",
       "      <td>0</td>\n",
       "    </tr>\n",
       "    <tr>\n",
       "      <th>7</th>\n",
       "      <td>Menos de 1 año</td>\n",
       "      <td>108</td>\n",
       "      <td>3</td>\n",
       "      <td>Excelente</td>\n",
       "      <td>3º</td>\n",
       "      <td>1</td>\n",
       "      <td>Occidente</td>\n",
       "      <td>3</td>\n",
       "      <td>3</td>\n",
       "      <td>30000000.0</td>\n",
       "      <td>0</td>\n",
       "    </tr>\n",
       "    <tr>\n",
       "      <th>10</th>\n",
       "      <td>9 a 15 años</td>\n",
       "      <td>90</td>\n",
       "      <td>2</td>\n",
       "      <td></td>\n",
       "      <td></td>\n",
       "      <td></td>\n",
       "      <td>Sur</td>\n",
       "      <td>1</td>\n",
       "      <td>4</td>\n",
       "      <td>40000000.0</td>\n",
       "      <td>0</td>\n",
       "    </tr>\n",
       "    <tr>\n",
       "      <th>13</th>\n",
       "      <td>9 a 15 años</td>\n",
       "      <td>72</td>\n",
       "      <td>1</td>\n",
       "      <td>Bueno</td>\n",
       "      <td>1º</td>\n",
       "      <td></td>\n",
       "      <td>Sur</td>\n",
       "      <td>1</td>\n",
       "      <td>4</td>\n",
       "      <td>47000000.0</td>\n",
       "      <td>0</td>\n",
       "    </tr>\n",
       "    <tr>\n",
       "      <th>14</th>\n",
       "      <td>1 a 8 años</td>\n",
       "      <td>62</td>\n",
       "      <td>1</td>\n",
       "      <td></td>\n",
       "      <td></td>\n",
       "      <td></td>\n",
       "      <td>Sur</td>\n",
       "      <td>1</td>\n",
       "      <td>3</td>\n",
       "      <td>47000000.0</td>\n",
       "      <td>0</td>\n",
       "    </tr>\n",
       "  </tbody>\n",
       "</table>\n",
       "</div>"
      ],
      "text/plain": [
       "              Ages  Area  Baths  Condition Floor Garages   Location3 Stratum  \\\n",
       "6     16 a 30 años   500      3                        2                   6   \n",
       "7   Menos de 1 año   108      3  Excelente    3º       1   Occidente       3   \n",
       "10     9 a 15 años    90      2                                  Sur       1   \n",
       "13     9 a 15 años    72      1      Bueno    1º                 Sur       1   \n",
       "14      1 a 8 años    62      1                                  Sur       1   \n",
       "\n",
       "    Rooms  FormatedPrice  InteriorFloors  \n",
       "6       6     19000000.0               0  \n",
       "7       3     30000000.0               0  \n",
       "10      4     40000000.0               0  \n",
       "13      4     47000000.0               0  \n",
       "14      3     47000000.0               0  "
      ]
     },
     "execution_count": 84,
     "metadata": {},
     "output_type": "execute_result"
    }
   ],
   "source": [
    "df_hs.head()"
   ]
  },
  {
   "cell_type": "code",
   "execution_count": 85,
   "metadata": {},
   "outputs": [
    {
     "data": {
      "text/plain": [
       "0    5239\n",
       "3       3\n",
       "2       3\n",
       "5       3\n",
       "4       1\n",
       "Name: InteriorFloors, dtype: int64"
      ]
     },
     "execution_count": 85,
     "metadata": {},
     "output_type": "execute_result"
    }
   ],
   "source": [
    "df_hs[\"InteriorFloors\"].value_counts()"
   ]
  },
  {
   "cell_type": "code",
   "execution_count": 69,
   "metadata": {},
   "outputs": [
    {
     "data": {
      "text/html": [
       "<div>\n",
       "<style scoped>\n",
       "    .dataframe tbody tr th:only-of-type {\n",
       "        vertical-align: middle;\n",
       "    }\n",
       "\n",
       "    .dataframe tbody tr th {\n",
       "        vertical-align: top;\n",
       "    }\n",
       "\n",
       "    .dataframe thead th {\n",
       "        text-align: right;\n",
       "    }\n",
       "</style>\n",
       "<table border=\"1\" class=\"dataframe\">\n",
       "  <thead>\n",
       "    <tr style=\"text-align: right;\">\n",
       "      <th></th>\n",
       "      <th>Ages</th>\n",
       "      <th>Area</th>\n",
       "      <th>Baths</th>\n",
       "      <th>Condition</th>\n",
       "      <th>Floor</th>\n",
       "      <th>Garages</th>\n",
       "      <th>Location3</th>\n",
       "      <th>Stratum</th>\n",
       "      <th>Rooms</th>\n",
       "      <th>FormatedPrice</th>\n",
       "    </tr>\n",
       "  </thead>\n",
       "  <tbody>\n",
       "    <tr>\n",
       "      <th>0</th>\n",
       "      <td>1 a 8 años</td>\n",
       "      <td>68</td>\n",
       "      <td>2</td>\n",
       "      <td>Excelente</td>\n",
       "      <td>4º</td>\n",
       "      <td>2</td>\n",
       "      <td>Norte</td>\n",
       "      <td>5</td>\n",
       "      <td>1</td>\n",
       "      <td>430000.0</td>\n",
       "    </tr>\n",
       "    <tr>\n",
       "      <th>1</th>\n",
       "      <td>16 a 30 años</td>\n",
       "      <td>60</td>\n",
       "      <td>1</td>\n",
       "      <td>Bueno</td>\n",
       "      <td>5º</td>\n",
       "      <td>1</td>\n",
       "      <td>Occidente</td>\n",
       "      <td>3</td>\n",
       "      <td>3</td>\n",
       "      <td>950000.0</td>\n",
       "    </tr>\n",
       "    <tr>\n",
       "      <th>2</th>\n",
       "      <td>16 a 30 años</td>\n",
       "      <td>259</td>\n",
       "      <td>5</td>\n",
       "      <td>Bueno</td>\n",
       "      <td></td>\n",
       "      <td>3</td>\n",
       "      <td>Norte</td>\n",
       "      <td>6</td>\n",
       "      <td>4</td>\n",
       "      <td>1190000.0</td>\n",
       "    </tr>\n",
       "    <tr>\n",
       "      <th>3</th>\n",
       "      <td>1 a 8 años</td>\n",
       "      <td>175</td>\n",
       "      <td>5</td>\n",
       "      <td>Excelente</td>\n",
       "      <td>2º</td>\n",
       "      <td>2</td>\n",
       "      <td>Norte</td>\n",
       "      <td>6</td>\n",
       "      <td>3</td>\n",
       "      <td>1700000.0</td>\n",
       "    </tr>\n",
       "    <tr>\n",
       "      <th>4</th>\n",
       "      <td>Más de 30 años</td>\n",
       "      <td>429</td>\n",
       "      <td>4</td>\n",
       "      <td>Bueno</td>\n",
       "      <td></td>\n",
       "      <td>3</td>\n",
       "      <td>Chapinero</td>\n",
       "      <td>6</td>\n",
       "      <td>3</td>\n",
       "      <td>2872000.0</td>\n",
       "    </tr>\n",
       "  </tbody>\n",
       "</table>\n",
       "</div>"
      ],
      "text/plain": [
       "             Ages  Area  Baths  Condition Floor Garages   Location3 Stratum  \\\n",
       "0      1 a 8 años    68      2  Excelente    4º       2       Norte       5   \n",
       "1    16 a 30 años    60      1      Bueno    5º       1   Occidente       3   \n",
       "2    16 a 30 años   259      5      Bueno             3       Norte       6   \n",
       "3      1 a 8 años   175      5  Excelente    2º       2       Norte       6   \n",
       "4  Más de 30 años   429      4      Bueno             3   Chapinero       6   \n",
       "\n",
       "   Rooms  FormatedPrice  \n",
       "0      1       430000.0  \n",
       "1      3       950000.0  \n",
       "2      4      1190000.0  \n",
       "3      3      1700000.0  \n",
       "4      3      2872000.0  "
      ]
     },
     "execution_count": 69,
     "metadata": {},
     "output_type": "execute_result"
    }
   ],
   "source": [
    "df_apts = df_apts[ df_apts[\"Location3\"] != \"\" ]\n",
    "df_apts = df_apts[ df_apts[\"Ages\"] != \"\" ]\n",
    "df_apts.head()"
   ]
  },
  {
   "cell_type": "code",
   "execution_count": 70,
   "metadata": {},
   "outputs": [
    {
     "data": {
      "text/html": [
       "<div>\n",
       "<style scoped>\n",
       "    .dataframe tbody tr th:only-of-type {\n",
       "        vertical-align: middle;\n",
       "    }\n",
       "\n",
       "    .dataframe tbody tr th {\n",
       "        vertical-align: top;\n",
       "    }\n",
       "\n",
       "    .dataframe thead th {\n",
       "        text-align: right;\n",
       "    }\n",
       "</style>\n",
       "<table border=\"1\" class=\"dataframe\">\n",
       "  <thead>\n",
       "    <tr style=\"text-align: right;\">\n",
       "      <th></th>\n",
       "      <th>Ages</th>\n",
       "      <th>Area</th>\n",
       "      <th>Baths</th>\n",
       "      <th>Condition</th>\n",
       "      <th>Floor</th>\n",
       "      <th>Garages</th>\n",
       "      <th>Location3</th>\n",
       "      <th>Stratum</th>\n",
       "      <th>Rooms</th>\n",
       "      <th>FormatedPrice</th>\n",
       "    </tr>\n",
       "  </thead>\n",
       "  <tbody>\n",
       "    <tr>\n",
       "      <th>7</th>\n",
       "      <td>Menos de 1 año</td>\n",
       "      <td>108</td>\n",
       "      <td>3</td>\n",
       "      <td>Excelente</td>\n",
       "      <td>3º</td>\n",
       "      <td>1</td>\n",
       "      <td>Occidente</td>\n",
       "      <td>3</td>\n",
       "      <td>3</td>\n",
       "      <td>30000000.0</td>\n",
       "    </tr>\n",
       "    <tr>\n",
       "      <th>10</th>\n",
       "      <td>9 a 15 años</td>\n",
       "      <td>90</td>\n",
       "      <td>2</td>\n",
       "      <td></td>\n",
       "      <td></td>\n",
       "      <td></td>\n",
       "      <td>Sur</td>\n",
       "      <td>1</td>\n",
       "      <td>4</td>\n",
       "      <td>40000000.0</td>\n",
       "    </tr>\n",
       "    <tr>\n",
       "      <th>13</th>\n",
       "      <td>9 a 15 años</td>\n",
       "      <td>72</td>\n",
       "      <td>1</td>\n",
       "      <td>Bueno</td>\n",
       "      <td>1º</td>\n",
       "      <td></td>\n",
       "      <td>Sur</td>\n",
       "      <td>1</td>\n",
       "      <td>4</td>\n",
       "      <td>47000000.0</td>\n",
       "    </tr>\n",
       "    <tr>\n",
       "      <th>14</th>\n",
       "      <td>1 a 8 años</td>\n",
       "      <td>62</td>\n",
       "      <td>1</td>\n",
       "      <td></td>\n",
       "      <td></td>\n",
       "      <td></td>\n",
       "      <td>Sur</td>\n",
       "      <td>1</td>\n",
       "      <td>3</td>\n",
       "      <td>47000000.0</td>\n",
       "    </tr>\n",
       "    <tr>\n",
       "      <th>16</th>\n",
       "      <td>9 a 15 años</td>\n",
       "      <td>77</td>\n",
       "      <td>1</td>\n",
       "      <td></td>\n",
       "      <td></td>\n",
       "      <td></td>\n",
       "      <td>Sur</td>\n",
       "      <td>1</td>\n",
       "      <td>4</td>\n",
       "      <td>50000000.0</td>\n",
       "    </tr>\n",
       "  </tbody>\n",
       "</table>\n",
       "</div>"
      ],
      "text/plain": [
       "              Ages  Area  Baths  Condition Floor Garages   Location3 Stratum  \\\n",
       "7   Menos de 1 año   108      3  Excelente    3º       1   Occidente       3   \n",
       "10     9 a 15 años    90      2                                  Sur       1   \n",
       "13     9 a 15 años    72      1      Bueno    1º                 Sur       1   \n",
       "14      1 a 8 años    62      1                                  Sur       1   \n",
       "16     9 a 15 años    77      1                                  Sur       1   \n",
       "\n",
       "    Rooms  FormatedPrice  \n",
       "7       3     30000000.0  \n",
       "10      4     40000000.0  \n",
       "13      4     47000000.0  \n",
       "14      3     47000000.0  \n",
       "16      4     50000000.0  "
      ]
     },
     "execution_count": 70,
     "metadata": {},
     "output_type": "execute_result"
    }
   ],
   "source": [
    "df_hs = df_hs[ df_hs[\"Location3\"] != \"\" ]\n",
    "df_hs = df_hs[ df_hs[\"Ages\"] != \"\" ]\n",
    "df_hs.head()"
   ]
  },
  {
   "cell_type": "code",
   "execution_count": 71,
   "metadata": {},
   "outputs": [
    {
     "data": {
      "text/plain": [
       "(4240, 10)"
      ]
     },
     "execution_count": 71,
     "metadata": {},
     "output_type": "execute_result"
    }
   ],
   "source": [
    "df_hs.shape"
   ]
  },
  {
   "cell_type": "code",
   "execution_count": 72,
   "metadata": {},
   "outputs": [
    {
     "data": {
      "text/plain": [
       "(10235, 10)"
      ]
     },
     "execution_count": 72,
     "metadata": {},
     "output_type": "execute_result"
    }
   ],
   "source": [
    "df_apts.shape"
   ]
  },
  {
   "cell_type": "code",
   "execution_count": 73,
   "metadata": {},
   "outputs": [],
   "source": [
    "df_hs.to_csv(\"../data/casas.csv\")"
   ]
  },
  {
   "cell_type": "code",
   "execution_count": 74,
   "metadata": {},
   "outputs": [],
   "source": [
    "df_apts.to_csv(\"../data/apts.csv\")"
   ]
  },
  {
   "cell_type": "code",
   "execution_count": 75,
   "metadata": {},
   "outputs": [],
   "source": [
    "from sklearn import preprocessing"
   ]
  },
  {
   "cell_type": "code",
   "execution_count": 76,
   "metadata": {},
   "outputs": [],
   "source": [
    "le = preprocessing.LabelEncoder()"
   ]
  },
  {
   "cell_type": "code",
   "execution_count": 77,
   "metadata": {},
   "outputs": [
    {
     "data": {
      "text/plain": [
       "LabelEncoder()"
      ]
     },
     "execution_count": 77,
     "metadata": {},
     "output_type": "execute_result"
    }
   ],
   "source": [
    "le"
   ]
  },
  {
   "cell_type": "code",
   "execution_count": 78,
   "metadata": {},
   "outputs": [],
   "source": [
    "def prepare( df ):\n",
    "    \n",
    "    le = preprocessing.LabelEncoder()\n",
    "    enc = preprocessing.OneHotEncoder(handle_unknown='ignore')\n",
    "    df[\"Ages\"] = le.fit_transform( df[\"Ages\"] )\n",
    "    df1 = pd.get_dummies( df[\"Ages\"] )\n",
    "    \n",
    "    \n",
    "    le = preprocessing.LabelEncoder()\n",
    "    enc = preprocessing.OneHotEncoder(handle_unknown='ignore')\n",
    "    df[\"Condition\"] = le.fit_transform( df[\"Condition\"] )\n",
    "    df2 = pd.get_dummies( df[\"Condition\"] )\n",
    "    \n",
    "    le = preprocessing.LabelEncoder()\n",
    "    enc = preprocessing.OneHotEncoder(handle_unknown='ignore')\n",
    "    df[\"Location3\"] = le.fit_transform( df[\"Location3\"] )\n",
    "    df3 = pd.get_dummies( df[\"Location3\"])\n",
    "    \n",
    "    \n",
    "    le = preprocessing.LabelEncoder()\n",
    "    enc = preprocessing.OneHotEncoder(handle_unknown='ignore')\n",
    "    df[\"FloorId\"] = le.fit_transform( df[\"FloorId\"] )\n",
    "    df4 = pd.get_dummies( df[\"FloorId\"])\n",
    "    \n",
    "    \n",
    "    le = preprocessing.LabelEncoder()\n",
    "    enc = preprocessing.OneHotEncoder(handle_unknown='ignore')\n",
    "    df[\"Stratum\"] = le.fit_transform( df[\"Stratum\"] )\n",
    "    df5 = pd.get_dummies( df[\"Stratum\"])\n",
    "    \n",
    "    \n",
    "    ls = [ df1 , df2 , df3 , df4 , df5 , df[\"Area\"] , df[\"Baths\"]  , df[\"Rooms\"] ]\n",
    "    \n",
    "    X = pd.concat( ls , axis = 1 )\n",
    "    y = np.log( df[\"FormatedPrice\"]/1e6 )\n",
    "    \n",
    "    return X.values , y.values\n"
   ]
  },
  {
   "cell_type": "code",
   "execution_count": 79,
   "metadata": {},
   "outputs": [
    {
     "ename": "KeyError",
     "evalue": "'FloorId'",
     "output_type": "error",
     "traceback": [
      "\u001b[0;31m---------------------------------------------------------------------------\u001b[0m",
      "\u001b[0;31mKeyError\u001b[0m                                  Traceback (most recent call last)",
      "\u001b[0;32m~/data-science/env-sonnet/lib/python3.5/site-packages/pandas/core/indexes/base.py\u001b[0m in \u001b[0;36mget_loc\u001b[0;34m(self, key, method, tolerance)\u001b[0m\n\u001b[1;32m   2524\u001b[0m             \u001b[0;32mtry\u001b[0m\u001b[0;34m:\u001b[0m\u001b[0;34m\u001b[0m\u001b[0m\n\u001b[0;32m-> 2525\u001b[0;31m                 \u001b[0;32mreturn\u001b[0m \u001b[0mself\u001b[0m\u001b[0;34m.\u001b[0m\u001b[0m_engine\u001b[0m\u001b[0;34m.\u001b[0m\u001b[0mget_loc\u001b[0m\u001b[0;34m(\u001b[0m\u001b[0mkey\u001b[0m\u001b[0;34m)\u001b[0m\u001b[0;34m\u001b[0m\u001b[0m\n\u001b[0m\u001b[1;32m   2526\u001b[0m             \u001b[0;32mexcept\u001b[0m \u001b[0mKeyError\u001b[0m\u001b[0;34m:\u001b[0m\u001b[0;34m\u001b[0m\u001b[0m\n",
      "\u001b[0;32mpandas/_libs/index.pyx\u001b[0m in \u001b[0;36mpandas._libs.index.IndexEngine.get_loc\u001b[0;34m()\u001b[0m\n",
      "\u001b[0;32mpandas/_libs/index.pyx\u001b[0m in \u001b[0;36mpandas._libs.index.IndexEngine.get_loc\u001b[0;34m()\u001b[0m\n",
      "\u001b[0;32mpandas/_libs/hashtable_class_helper.pxi\u001b[0m in \u001b[0;36mpandas._libs.hashtable.PyObjectHashTable.get_item\u001b[0;34m()\u001b[0m\n",
      "\u001b[0;32mpandas/_libs/hashtable_class_helper.pxi\u001b[0m in \u001b[0;36mpandas._libs.hashtable.PyObjectHashTable.get_item\u001b[0;34m()\u001b[0m\n",
      "\u001b[0;31mKeyError\u001b[0m: 'FloorId'",
      "\nDuring handling of the above exception, another exception occurred:\n",
      "\u001b[0;31mKeyError\u001b[0m                                  Traceback (most recent call last)",
      "\u001b[0;32m<ipython-input-79-cc7f59bf55e2>\u001b[0m in \u001b[0;36m<module>\u001b[0;34m()\u001b[0m\n\u001b[0;32m----> 1\u001b[0;31m \u001b[0mX\u001b[0m \u001b[0;34m,\u001b[0m \u001b[0my\u001b[0m \u001b[0;34m=\u001b[0m \u001b[0mprepare\u001b[0m\u001b[0;34m(\u001b[0m \u001b[0mdf_hs\u001b[0m \u001b[0;34m)\u001b[0m\u001b[0;34m\u001b[0m\u001b[0m\n\u001b[0m",
      "\u001b[0;32m<ipython-input-78-a7db8d82c2c4>\u001b[0m in \u001b[0;36mprepare\u001b[0;34m(df)\u001b[0m\n\u001b[1;32m     20\u001b[0m     \u001b[0mle\u001b[0m \u001b[0;34m=\u001b[0m \u001b[0mpreprocessing\u001b[0m\u001b[0;34m.\u001b[0m\u001b[0mLabelEncoder\u001b[0m\u001b[0;34m(\u001b[0m\u001b[0;34m)\u001b[0m\u001b[0;34m\u001b[0m\u001b[0m\n\u001b[1;32m     21\u001b[0m     \u001b[0menc\u001b[0m \u001b[0;34m=\u001b[0m \u001b[0mpreprocessing\u001b[0m\u001b[0;34m.\u001b[0m\u001b[0mOneHotEncoder\u001b[0m\u001b[0;34m(\u001b[0m\u001b[0mhandle_unknown\u001b[0m\u001b[0;34m=\u001b[0m\u001b[0;34m'ignore'\u001b[0m\u001b[0;34m)\u001b[0m\u001b[0;34m\u001b[0m\u001b[0m\n\u001b[0;32m---> 22\u001b[0;31m     \u001b[0mdf\u001b[0m\u001b[0;34m[\u001b[0m\u001b[0;34m\"FloorId\"\u001b[0m\u001b[0;34m]\u001b[0m \u001b[0;34m=\u001b[0m \u001b[0mle\u001b[0m\u001b[0;34m.\u001b[0m\u001b[0mfit_transform\u001b[0m\u001b[0;34m(\u001b[0m \u001b[0mdf\u001b[0m\u001b[0;34m[\u001b[0m\u001b[0;34m\"FloorId\"\u001b[0m\u001b[0;34m]\u001b[0m \u001b[0;34m)\u001b[0m\u001b[0;34m\u001b[0m\u001b[0m\n\u001b[0m\u001b[1;32m     23\u001b[0m     \u001b[0mdf4\u001b[0m \u001b[0;34m=\u001b[0m \u001b[0mpd\u001b[0m\u001b[0;34m.\u001b[0m\u001b[0mget_dummies\u001b[0m\u001b[0;34m(\u001b[0m \u001b[0mdf\u001b[0m\u001b[0;34m[\u001b[0m\u001b[0;34m\"FloorId\"\u001b[0m\u001b[0;34m]\u001b[0m\u001b[0;34m)\u001b[0m\u001b[0;34m\u001b[0m\u001b[0m\n\u001b[1;32m     24\u001b[0m \u001b[0;34m\u001b[0m\u001b[0m\n",
      "\u001b[0;32m~/data-science/env-sonnet/lib/python3.5/site-packages/pandas/core/frame.py\u001b[0m in \u001b[0;36m__getitem__\u001b[0;34m(self, key)\u001b[0m\n\u001b[1;32m   2137\u001b[0m             \u001b[0;32mreturn\u001b[0m \u001b[0mself\u001b[0m\u001b[0;34m.\u001b[0m\u001b[0m_getitem_multilevel\u001b[0m\u001b[0;34m(\u001b[0m\u001b[0mkey\u001b[0m\u001b[0;34m)\u001b[0m\u001b[0;34m\u001b[0m\u001b[0m\n\u001b[1;32m   2138\u001b[0m         \u001b[0;32melse\u001b[0m\u001b[0;34m:\u001b[0m\u001b[0;34m\u001b[0m\u001b[0m\n\u001b[0;32m-> 2139\u001b[0;31m             \u001b[0;32mreturn\u001b[0m \u001b[0mself\u001b[0m\u001b[0;34m.\u001b[0m\u001b[0m_getitem_column\u001b[0m\u001b[0;34m(\u001b[0m\u001b[0mkey\u001b[0m\u001b[0;34m)\u001b[0m\u001b[0;34m\u001b[0m\u001b[0m\n\u001b[0m\u001b[1;32m   2140\u001b[0m \u001b[0;34m\u001b[0m\u001b[0m\n\u001b[1;32m   2141\u001b[0m     \u001b[0;32mdef\u001b[0m \u001b[0m_getitem_column\u001b[0m\u001b[0;34m(\u001b[0m\u001b[0mself\u001b[0m\u001b[0;34m,\u001b[0m \u001b[0mkey\u001b[0m\u001b[0;34m)\u001b[0m\u001b[0;34m:\u001b[0m\u001b[0;34m\u001b[0m\u001b[0m\n",
      "\u001b[0;32m~/data-science/env-sonnet/lib/python3.5/site-packages/pandas/core/frame.py\u001b[0m in \u001b[0;36m_getitem_column\u001b[0;34m(self, key)\u001b[0m\n\u001b[1;32m   2144\u001b[0m         \u001b[0;31m# get column\u001b[0m\u001b[0;34m\u001b[0m\u001b[0;34m\u001b[0m\u001b[0m\n\u001b[1;32m   2145\u001b[0m         \u001b[0;32mif\u001b[0m \u001b[0mself\u001b[0m\u001b[0;34m.\u001b[0m\u001b[0mcolumns\u001b[0m\u001b[0;34m.\u001b[0m\u001b[0mis_unique\u001b[0m\u001b[0;34m:\u001b[0m\u001b[0;34m\u001b[0m\u001b[0m\n\u001b[0;32m-> 2146\u001b[0;31m             \u001b[0;32mreturn\u001b[0m \u001b[0mself\u001b[0m\u001b[0;34m.\u001b[0m\u001b[0m_get_item_cache\u001b[0m\u001b[0;34m(\u001b[0m\u001b[0mkey\u001b[0m\u001b[0;34m)\u001b[0m\u001b[0;34m\u001b[0m\u001b[0m\n\u001b[0m\u001b[1;32m   2147\u001b[0m \u001b[0;34m\u001b[0m\u001b[0m\n\u001b[1;32m   2148\u001b[0m         \u001b[0;31m# duplicate columns & possible reduce dimensionality\u001b[0m\u001b[0;34m\u001b[0m\u001b[0;34m\u001b[0m\u001b[0m\n",
      "\u001b[0;32m~/data-science/env-sonnet/lib/python3.5/site-packages/pandas/core/generic.py\u001b[0m in \u001b[0;36m_get_item_cache\u001b[0;34m(self, item)\u001b[0m\n\u001b[1;32m   1840\u001b[0m         \u001b[0mres\u001b[0m \u001b[0;34m=\u001b[0m \u001b[0mcache\u001b[0m\u001b[0;34m.\u001b[0m\u001b[0mget\u001b[0m\u001b[0;34m(\u001b[0m\u001b[0mitem\u001b[0m\u001b[0;34m)\u001b[0m\u001b[0;34m\u001b[0m\u001b[0m\n\u001b[1;32m   1841\u001b[0m         \u001b[0;32mif\u001b[0m \u001b[0mres\u001b[0m \u001b[0;32mis\u001b[0m \u001b[0;32mNone\u001b[0m\u001b[0;34m:\u001b[0m\u001b[0;34m\u001b[0m\u001b[0m\n\u001b[0;32m-> 1842\u001b[0;31m             \u001b[0mvalues\u001b[0m \u001b[0;34m=\u001b[0m \u001b[0mself\u001b[0m\u001b[0;34m.\u001b[0m\u001b[0m_data\u001b[0m\u001b[0;34m.\u001b[0m\u001b[0mget\u001b[0m\u001b[0;34m(\u001b[0m\u001b[0mitem\u001b[0m\u001b[0;34m)\u001b[0m\u001b[0;34m\u001b[0m\u001b[0m\n\u001b[0m\u001b[1;32m   1843\u001b[0m             \u001b[0mres\u001b[0m \u001b[0;34m=\u001b[0m \u001b[0mself\u001b[0m\u001b[0;34m.\u001b[0m\u001b[0m_box_item_values\u001b[0m\u001b[0;34m(\u001b[0m\u001b[0mitem\u001b[0m\u001b[0;34m,\u001b[0m \u001b[0mvalues\u001b[0m\u001b[0;34m)\u001b[0m\u001b[0;34m\u001b[0m\u001b[0m\n\u001b[1;32m   1844\u001b[0m             \u001b[0mcache\u001b[0m\u001b[0;34m[\u001b[0m\u001b[0mitem\u001b[0m\u001b[0;34m]\u001b[0m \u001b[0;34m=\u001b[0m \u001b[0mres\u001b[0m\u001b[0;34m\u001b[0m\u001b[0m\n",
      "\u001b[0;32m~/data-science/env-sonnet/lib/python3.5/site-packages/pandas/core/internals.py\u001b[0m in \u001b[0;36mget\u001b[0;34m(self, item, fastpath)\u001b[0m\n\u001b[1;32m   3841\u001b[0m \u001b[0;34m\u001b[0m\u001b[0m\n\u001b[1;32m   3842\u001b[0m             \u001b[0;32mif\u001b[0m \u001b[0;32mnot\u001b[0m \u001b[0misna\u001b[0m\u001b[0;34m(\u001b[0m\u001b[0mitem\u001b[0m\u001b[0;34m)\u001b[0m\u001b[0;34m:\u001b[0m\u001b[0;34m\u001b[0m\u001b[0m\n\u001b[0;32m-> 3843\u001b[0;31m                 \u001b[0mloc\u001b[0m \u001b[0;34m=\u001b[0m \u001b[0mself\u001b[0m\u001b[0;34m.\u001b[0m\u001b[0mitems\u001b[0m\u001b[0;34m.\u001b[0m\u001b[0mget_loc\u001b[0m\u001b[0;34m(\u001b[0m\u001b[0mitem\u001b[0m\u001b[0;34m)\u001b[0m\u001b[0;34m\u001b[0m\u001b[0m\n\u001b[0m\u001b[1;32m   3844\u001b[0m             \u001b[0;32melse\u001b[0m\u001b[0;34m:\u001b[0m\u001b[0;34m\u001b[0m\u001b[0m\n\u001b[1;32m   3845\u001b[0m                 \u001b[0mindexer\u001b[0m \u001b[0;34m=\u001b[0m \u001b[0mnp\u001b[0m\u001b[0;34m.\u001b[0m\u001b[0marange\u001b[0m\u001b[0;34m(\u001b[0m\u001b[0mlen\u001b[0m\u001b[0;34m(\u001b[0m\u001b[0mself\u001b[0m\u001b[0;34m.\u001b[0m\u001b[0mitems\u001b[0m\u001b[0;34m)\u001b[0m\u001b[0;34m)\u001b[0m\u001b[0;34m[\u001b[0m\u001b[0misna\u001b[0m\u001b[0;34m(\u001b[0m\u001b[0mself\u001b[0m\u001b[0;34m.\u001b[0m\u001b[0mitems\u001b[0m\u001b[0;34m)\u001b[0m\u001b[0;34m]\u001b[0m\u001b[0;34m\u001b[0m\u001b[0m\n",
      "\u001b[0;32m~/data-science/env-sonnet/lib/python3.5/site-packages/pandas/core/indexes/base.py\u001b[0m in \u001b[0;36mget_loc\u001b[0;34m(self, key, method, tolerance)\u001b[0m\n\u001b[1;32m   2525\u001b[0m                 \u001b[0;32mreturn\u001b[0m \u001b[0mself\u001b[0m\u001b[0;34m.\u001b[0m\u001b[0m_engine\u001b[0m\u001b[0;34m.\u001b[0m\u001b[0mget_loc\u001b[0m\u001b[0;34m(\u001b[0m\u001b[0mkey\u001b[0m\u001b[0;34m)\u001b[0m\u001b[0;34m\u001b[0m\u001b[0m\n\u001b[1;32m   2526\u001b[0m             \u001b[0;32mexcept\u001b[0m \u001b[0mKeyError\u001b[0m\u001b[0;34m:\u001b[0m\u001b[0;34m\u001b[0m\u001b[0m\n\u001b[0;32m-> 2527\u001b[0;31m                 \u001b[0;32mreturn\u001b[0m \u001b[0mself\u001b[0m\u001b[0;34m.\u001b[0m\u001b[0m_engine\u001b[0m\u001b[0;34m.\u001b[0m\u001b[0mget_loc\u001b[0m\u001b[0;34m(\u001b[0m\u001b[0mself\u001b[0m\u001b[0;34m.\u001b[0m\u001b[0m_maybe_cast_indexer\u001b[0m\u001b[0;34m(\u001b[0m\u001b[0mkey\u001b[0m\u001b[0;34m)\u001b[0m\u001b[0;34m)\u001b[0m\u001b[0;34m\u001b[0m\u001b[0m\n\u001b[0m\u001b[1;32m   2528\u001b[0m \u001b[0;34m\u001b[0m\u001b[0m\n\u001b[1;32m   2529\u001b[0m         \u001b[0mindexer\u001b[0m \u001b[0;34m=\u001b[0m \u001b[0mself\u001b[0m\u001b[0;34m.\u001b[0m\u001b[0mget_indexer\u001b[0m\u001b[0;34m(\u001b[0m\u001b[0;34m[\u001b[0m\u001b[0mkey\u001b[0m\u001b[0;34m]\u001b[0m\u001b[0;34m,\u001b[0m \u001b[0mmethod\u001b[0m\u001b[0;34m=\u001b[0m\u001b[0mmethod\u001b[0m\u001b[0;34m,\u001b[0m \u001b[0mtolerance\u001b[0m\u001b[0;34m=\u001b[0m\u001b[0mtolerance\u001b[0m\u001b[0;34m)\u001b[0m\u001b[0;34m\u001b[0m\u001b[0m\n",
      "\u001b[0;32mpandas/_libs/index.pyx\u001b[0m in \u001b[0;36mpandas._libs.index.IndexEngine.get_loc\u001b[0;34m()\u001b[0m\n",
      "\u001b[0;32mpandas/_libs/index.pyx\u001b[0m in \u001b[0;36mpandas._libs.index.IndexEngine.get_loc\u001b[0;34m()\u001b[0m\n",
      "\u001b[0;32mpandas/_libs/hashtable_class_helper.pxi\u001b[0m in \u001b[0;36mpandas._libs.hashtable.PyObjectHashTable.get_item\u001b[0;34m()\u001b[0m\n",
      "\u001b[0;32mpandas/_libs/hashtable_class_helper.pxi\u001b[0m in \u001b[0;36mpandas._libs.hashtable.PyObjectHashTable.get_item\u001b[0;34m()\u001b[0m\n",
      "\u001b[0;31mKeyError\u001b[0m: 'FloorId'"
     ]
    }
   ],
   "source": [
    "X , y = prepare( df_hs )"
   ]
  },
  {
   "cell_type": "code",
   "execution_count": null,
   "metadata": {},
   "outputs": [],
   "source": [
    "from sklearn.model_selection import train_test_split\n",
    "import lightgbm as lgb\n",
    "from sklearn.model_selection import StratifiedKFold\n",
    "from sklearn.model_selection import KFold\n",
    "from sklearn.metrics import mean_squared_error"
   ]
  },
  {
   "cell_type": "code",
   "execution_count": null,
   "metadata": {},
   "outputs": [],
   "source": [
    "learning_rate = 0.1\n",
    "num_leaves = 15\n",
    "min_data_in_leaf = 2000\n",
    "feature_fraction = 0.8\n",
    "num_boost_round = 1000\n",
    "params = {\"objective\": \"regression\",\n",
    "          \"boosting_type\": \"gbdt\",\n",
    "          \"learning_rate\": learning_rate,\n",
    "          \"metric\":[\"mse\"] , \n",
    "          \"num_leaves\": num_leaves,\n",
    "           \"max_bin\": 256,\n",
    "          \"feature_fraction\": feature_fraction,\n",
    "          \"verbosity\": 0,\n",
    "          \"drop_rate\": 0.1,\n",
    "          \"is_unbalance\": False,\n",
    "          \"max_drop\": 50,\n",
    "          \"min_child_samples\": 10,\n",
    "          \"min_child_weight\": 150,\n",
    "          \"min_split_gain\": 0,\n",
    "          \"subsample\": 0.9 , \n",
    "}"
   ]
  },
  {
   "cell_type": "code",
   "execution_count": null,
   "metadata": {},
   "outputs": [],
   "source": [
    "y"
   ]
  },
  {
   "cell_type": "code",
   "execution_count": null,
   "metadata": {},
   "outputs": [],
   "source": [
    "NFOLDS = 5\n",
    "kfold = KFold(n_splits=NFOLDS, shuffle=True, random_state=218)\n",
    "\n",
    "\n",
    "final_cv_train = np.zeros(len(y))\n",
    "x_score = []\n",
    "\n",
    "for s in range(16):\n",
    "    cv_train = np.zeros(len(y))\n",
    "    params['seed'] = s\n",
    "    \n",
    "    if True:\n",
    "        kf = kfold.split( X ,   y )\n",
    "\n",
    "        best_trees = []\n",
    "        fold_scores = []\n",
    "        \n",
    "        for i, (train_fold, validate) in enumerate(kf):\n",
    "            X_train, X_validate, label_train, label_validate = X[train_fold, :], X[validate, :], y[train_fold], y[validate]\n",
    "            dtrain = lgb.Dataset(X_train, label_train )\n",
    "            dvalid = lgb.Dataset(X_validate, label_validate, reference=dtrain )\n",
    "            bst = lgb.train(params, dtrain, num_boost_round, valid_sets=dvalid , verbose_eval=100,early_stopping_rounds=100)\n",
    "            best_trees.append(bst.best_iteration)\n",
    "            cv_train[validate] += bst.predict(X_validate)\n",
    "            \n",
    "            \n",
    "            score = mean_squared_error( label_validate, cv_train[validate] )\n",
    "            print( score )\n",
    "            fold_scores.append(score)\n",
    "\n",
    "        final_cv_train += cv_train\n",
    "\n",
    "        print(\"cv score:\")\n",
    "        print( mean_squared_error(y, cv_train))\n",
    "        print( \"current score:\", mean_squared_error( y , final_cv_train / (s + 1.)), s+1)\n",
    "        print(fold_scores)\n",
    "        print(best_trees, np.mean(best_trees))\n",
    "\n",
    "        x_score.append(mean_squared_error( y , cv_train))"
   ]
  },
  {
   "cell_type": "code",
   "execution_count": null,
   "metadata": {},
   "outputs": [],
   "source": []
  }
 ],
 "metadata": {
  "kernelspec": {
   "display_name": "Python 2",
   "language": "python",
   "name": "python2"
  },
  "language_info": {
   "codemirror_mode": {
    "name": "ipython",
    "version": 3
   },
   "file_extension": ".py",
   "mimetype": "text/x-python",
   "name": "python",
   "nbconvert_exporter": "python",
   "pygments_lexer": "ipython3",
   "version": "3.5.2"
  }
 },
 "nbformat": 4,
 "nbformat_minor": 2
}
